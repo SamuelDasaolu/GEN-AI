{
 "cells": [
  {
   "metadata": {},
   "cell_type": "markdown",
   "source": [
    "### Task:\n",
    "\n",
    "Is the beef consumption in Argentina significantly different from that in Bangladesh?\n",
    "\n",
    "H₀: Mean beef consumption (Argentina) = Mean beef consumption (Bangladesh)\n",
    "\n",
    "H₁: Mean beef consumption (Argentina) ≠ Mean beef consumption (Bangladesh)"
   ],
   "id": "51090e3a9a9c48f7"
  },
  {
   "cell_type": "code",
   "id": "initial_id",
   "metadata": {
    "collapsed": true,
    "ExecuteTime": {
     "end_time": "2025-09-29T13:01:32.168727Z",
     "start_time": "2025-09-29T13:01:28.119685Z"
    }
   },
   "source": [
    "import gdown\n",
    "from scipy import stats\n",
    "\n",
    "file_id = '1yB5qSBOLl96Y563nIewKOU8RN_gsY3dO'  # Make sure it's a string\n",
    "gdown.download(f'https://drive.google.com/uc?id={file_id}', 'data.csv', quiet=False)"
   ],
   "outputs": [
    {
     "name": "stderr",
     "output_type": "stream",
     "text": [
      "Downloading...\n",
      "From: https://drive.google.com/uc?id=1yB5qSBOLl96Y563nIewKOU8RN_gsY3dO\n",
      "To: C:\\Users\\ncc\\PycharmProjects\\GEN-AI\\WEEK 9\\data.csv\n",
      "100%|██████████| 52.0k/52.0k [00:00<00:00, 282kB/s]\n"
     ]
    },
    {
     "data": {
      "text/plain": [
       "'data.csv'"
      ]
     },
     "execution_count": 212,
     "metadata": {},
     "output_type": "execute_result"
    }
   ],
   "execution_count": 212
  },
  {
   "metadata": {
    "ExecuteTime": {
     "end_time": "2025-09-29T13:01:32.338723Z",
     "start_time": "2025-09-29T13:01:32.208921Z"
    }
   },
   "cell_type": "code",
   "source": [
    "import pandas as pd\n",
    "import numpy as np\n",
    "# Read the downloaded CSV file\n",
    "df = pd.read_csv('data.csv')\n",
    "df.dropna(inplace=True)\n",
    "df"
   ],
   "id": "e9085b5dab072945",
   "outputs": [
    {
     "data": {
      "text/plain": [
       "      Unnamed: 0     country food_category  consumption  co2_emission\n",
       "0              1   Argentina          pork        10.51         37.20\n",
       "1              2   Argentina       poultry        38.66         41.53\n",
       "2              3   Argentina          beef        55.48       1712.00\n",
       "3              4   Argentina     lamb_goat         1.56         54.63\n",
       "4              5   Argentina          fish         4.36          6.96\n",
       "...          ...         ...           ...          ...           ...\n",
       "1425        1426  Bangladesh         dairy        21.91         31.21\n",
       "1426        1427  Bangladesh         wheat        17.47          3.33\n",
       "1427        1428  Bangladesh          rice       171.73        219.76\n",
       "1428        1429  Bangladesh      soybeans         0.61          0.27\n",
       "1429        1430  Bangladesh          nuts         0.72          1.27\n",
       "\n",
       "[1430 rows x 5 columns]"
      ],
      "text/html": [
       "<div>\n",
       "<style scoped>\n",
       "    .dataframe tbody tr th:only-of-type {\n",
       "        vertical-align: middle;\n",
       "    }\n",
       "\n",
       "    .dataframe tbody tr th {\n",
       "        vertical-align: top;\n",
       "    }\n",
       "\n",
       "    .dataframe thead th {\n",
       "        text-align: right;\n",
       "    }\n",
       "</style>\n",
       "<table border=\"1\" class=\"dataframe\">\n",
       "  <thead>\n",
       "    <tr style=\"text-align: right;\">\n",
       "      <th></th>\n",
       "      <th>Unnamed: 0</th>\n",
       "      <th>country</th>\n",
       "      <th>food_category</th>\n",
       "      <th>consumption</th>\n",
       "      <th>co2_emission</th>\n",
       "    </tr>\n",
       "  </thead>\n",
       "  <tbody>\n",
       "    <tr>\n",
       "      <th>0</th>\n",
       "      <td>1</td>\n",
       "      <td>Argentina</td>\n",
       "      <td>pork</td>\n",
       "      <td>10.51</td>\n",
       "      <td>37.20</td>\n",
       "    </tr>\n",
       "    <tr>\n",
       "      <th>1</th>\n",
       "      <td>2</td>\n",
       "      <td>Argentina</td>\n",
       "      <td>poultry</td>\n",
       "      <td>38.66</td>\n",
       "      <td>41.53</td>\n",
       "    </tr>\n",
       "    <tr>\n",
       "      <th>2</th>\n",
       "      <td>3</td>\n",
       "      <td>Argentina</td>\n",
       "      <td>beef</td>\n",
       "      <td>55.48</td>\n",
       "      <td>1712.00</td>\n",
       "    </tr>\n",
       "    <tr>\n",
       "      <th>3</th>\n",
       "      <td>4</td>\n",
       "      <td>Argentina</td>\n",
       "      <td>lamb_goat</td>\n",
       "      <td>1.56</td>\n",
       "      <td>54.63</td>\n",
       "    </tr>\n",
       "    <tr>\n",
       "      <th>4</th>\n",
       "      <td>5</td>\n",
       "      <td>Argentina</td>\n",
       "      <td>fish</td>\n",
       "      <td>4.36</td>\n",
       "      <td>6.96</td>\n",
       "    </tr>\n",
       "    <tr>\n",
       "      <th>...</th>\n",
       "      <td>...</td>\n",
       "      <td>...</td>\n",
       "      <td>...</td>\n",
       "      <td>...</td>\n",
       "      <td>...</td>\n",
       "    </tr>\n",
       "    <tr>\n",
       "      <th>1425</th>\n",
       "      <td>1426</td>\n",
       "      <td>Bangladesh</td>\n",
       "      <td>dairy</td>\n",
       "      <td>21.91</td>\n",
       "      <td>31.21</td>\n",
       "    </tr>\n",
       "    <tr>\n",
       "      <th>1426</th>\n",
       "      <td>1427</td>\n",
       "      <td>Bangladesh</td>\n",
       "      <td>wheat</td>\n",
       "      <td>17.47</td>\n",
       "      <td>3.33</td>\n",
       "    </tr>\n",
       "    <tr>\n",
       "      <th>1427</th>\n",
       "      <td>1428</td>\n",
       "      <td>Bangladesh</td>\n",
       "      <td>rice</td>\n",
       "      <td>171.73</td>\n",
       "      <td>219.76</td>\n",
       "    </tr>\n",
       "    <tr>\n",
       "      <th>1428</th>\n",
       "      <td>1429</td>\n",
       "      <td>Bangladesh</td>\n",
       "      <td>soybeans</td>\n",
       "      <td>0.61</td>\n",
       "      <td>0.27</td>\n",
       "    </tr>\n",
       "    <tr>\n",
       "      <th>1429</th>\n",
       "      <td>1430</td>\n",
       "      <td>Bangladesh</td>\n",
       "      <td>nuts</td>\n",
       "      <td>0.72</td>\n",
       "      <td>1.27</td>\n",
       "    </tr>\n",
       "  </tbody>\n",
       "</table>\n",
       "<p>1430 rows × 5 columns</p>\n",
       "</div>"
      ]
     },
     "execution_count": 213,
     "metadata": {},
     "output_type": "execute_result"
    }
   ],
   "execution_count": 213
  },
  {
   "metadata": {
    "ExecuteTime": {
     "end_time": "2025-09-29T13:01:32.415941Z",
     "start_time": "2025-09-29T13:01:32.407395Z"
    }
   },
   "cell_type": "code",
   "source": [
    "arg_beef = df[(df['country'] == 'Argentina') & (df['food_category'] == 'beef')]\n",
    "arg_beef_consump = arg_beef['consumption']\n",
    "\n",
    "bang_beef = df[(df['country'] == 'Bangladesh') & (df['food_category'] == 'beef')]\n",
    "bang_beef_consump = bang_beef['consumption']\n"
   ],
   "id": "dda7919c7caa7037",
   "outputs": [],
   "execution_count": 214
  },
  {
   "metadata": {
    "ExecuteTime": {
     "end_time": "2025-09-29T13:01:32.539547Z",
     "start_time": "2025-09-29T13:01:32.533290Z"
    }
   },
   "cell_type": "code",
   "source": "arg_beef_consump",
   "id": "e17c2c767fa1c708",
   "outputs": [
    {
     "data": {
      "text/plain": [
       "2    55.48\n",
       "Name: consumption, dtype: float64"
      ]
     },
     "execution_count": 215,
     "metadata": {},
     "output_type": "execute_result"
    }
   ],
   "execution_count": 215
  },
  {
   "metadata": {
    "ExecuteTime": {
     "end_time": "2025-09-29T13:01:32.582915Z",
     "start_time": "2025-09-29T13:01:32.577957Z"
    }
   },
   "cell_type": "code",
   "source": "bang_beef_consump",
   "id": "c56223cd89718b01",
   "outputs": [
    {
     "data": {
      "text/plain": [
       "1421    1.28\n",
       "Name: consumption, dtype: float64"
      ]
     },
     "execution_count": 216,
     "metadata": {},
     "output_type": "execute_result"
    }
   ],
   "execution_count": 216
  },
  {
   "metadata": {
    "ExecuteTime": {
     "end_time": "2025-09-29T13:01:32.846519Z",
     "start_time": "2025-09-29T13:01:32.841971Z"
    }
   },
   "cell_type": "code",
   "source": [
    "arg_beef_consump_mean = arg_beef_consump.mean()\n",
    "bang_beef_consump_mean = bang_beef_consump.mean()\n",
    "\n",
    "print(\"Mean Beef Consumption(Argentina): \", arg_beef_consump_mean)\n",
    "print(\"Mean Beef Consumption(Bangladesh): \", bang_beef_consump_mean)"
   ],
   "id": "a41367a873844cff",
   "outputs": [
    {
     "name": "stdout",
     "output_type": "stream",
     "text": [
      "Mean Beef Consumption(Argentina):  55.48\n",
      "Mean Beef Consumption(Bangladesh):  1.28\n"
     ]
    }
   ],
   "execution_count": 217
  },
  {
   "metadata": {
    "ExecuteTime": {
     "end_time": "2025-09-29T13:01:32.958593Z",
     "start_time": "2025-09-29T13:01:32.950061Z"
    }
   },
   "cell_type": "code",
   "source": "np.random.seed(42) # for reproducibility",
   "id": "eec5e1d1231eec6a",
   "outputs": [],
   "execution_count": 218
  },
  {
   "metadata": {
    "ExecuteTime": {
     "end_time": "2025-09-29T13:01:32.988544Z",
     "start_time": "2025-09-29T13:01:32.978955Z"
    }
   },
   "cell_type": "code",
   "source": [
    "arg_beef_samples = np.random.normal(loc=arg_beef_consump_mean, scale=5, size=30)\n",
    "arg_beef_samples"
   ],
   "id": "47f78dbef44b237d",
   "outputs": [
    {
     "data": {
      "text/plain": [
       "array([57.96357077, 54.78867849, 58.71844269, 63.09514928, 54.30923313,\n",
       "       54.30931522, 63.37606408, 59.31717365, 53.13262807, 58.19280022,\n",
       "       53.16291154, 53.15135123, 56.68981136, 45.91359878, 46.85541084,\n",
       "       52.66856235, 50.4158444 , 57.05123666, 50.93987962, 48.41848149,\n",
       "       62.80824384, 54.3511185 , 55.81764102, 48.35625907, 52.75808638,\n",
       "       56.03461295, 49.72503211, 57.35849009, 52.47680655, 54.02153125])"
      ]
     },
     "execution_count": 219,
     "metadata": {},
     "output_type": "execute_result"
    }
   ],
   "execution_count": 219
  },
  {
   "metadata": {
    "ExecuteTime": {
     "end_time": "2025-09-29T13:01:33.009967Z",
     "start_time": "2025-09-29T13:01:33.004628Z"
    }
   },
   "cell_type": "code",
   "source": [
    "bang_beef_samples = np.random.normal(loc=bang_beef_consump_mean, scale=5, size=30)\n",
    "bang_beef_samples"
   ],
   "id": "623398c65b0cd94c",
   "outputs": [
    {
     "data": {
      "text/plain": [
       "array([-1.72853306, 10.54139092,  1.21251388, -4.00855464,  5.39272456,\n",
       "       -4.82421825,  2.32431798, -8.51835062, -5.36093024,  2.26430618,\n",
       "        4.9723329 ,  2.13684141,  0.70175859, -0.22551848, -6.11260995,\n",
       "       -2.31922104, -1.02319385,  6.56561113,  2.99809145, -7.53520078,\n",
       "        2.90041985, -0.6454114 , -2.10461   ,  4.33838144,  6.43499761,\n",
       "        5.9364006 , -2.91608762, -0.26606188,  2.93631716,  6.15772564])"
      ]
     },
     "execution_count": 220,
     "metadata": {},
     "output_type": "execute_result"
    }
   ],
   "execution_count": 220
  },
  {
   "metadata": {
    "ExecuteTime": {
     "end_time": "2025-09-29T13:01:33.059535Z",
     "start_time": "2025-09-29T13:01:33.040103Z"
    }
   },
   "cell_type": "code",
   "source": [
    "# one-sample t-test : Argentina beef samples vs bangladesh mean\n",
    "t_stat, p_val =stats.ttest_1samp(arg_beef_samples, bang_beef_consump_mean)"
   ],
   "id": "a2632928364f7d42",
   "outputs": [],
   "execution_count": 221
  },
  {
   "metadata": {
    "ExecuteTime": {
     "end_time": "2025-09-29T13:01:33.081194Z",
     "start_time": "2025-09-29T13:01:33.076165Z"
    }
   },
   "cell_type": "code",
   "source": [
    "print(\"T'Statistic: \", t_stat)\n",
    "print(\"P-value: \", p_val)"
   ],
   "id": "5f06bd3e5bbae203",
   "outputs": [
    {
     "name": "stdout",
     "output_type": "stream",
     "text": [
      "T'Statistic:  64.82465065513577\n",
      "P-value:  6.1573169718969674e-33\n"
     ]
    }
   ],
   "execution_count": 222
  },
  {
   "metadata": {
    "ExecuteTime": {
     "end_time": "2025-09-29T13:01:33.122429Z",
     "start_time": "2025-09-29T13:01:33.117919Z"
    }
   },
   "cell_type": "code",
   "source": [
    "# Comparing Bangladesh samples vs argentina mean\n",
    "t_stat, p_val =stats.ttest_1samp(bang_beef_samples, arg_beef_consump_mean)"
   ],
   "id": "fed6cf821da6d9f",
   "outputs": [],
   "execution_count": 223
  },
  {
   "metadata": {
    "ExecuteTime": {
     "end_time": "2025-09-29T13:01:33.137802Z",
     "start_time": "2025-09-29T13:01:33.133957Z"
    }
   },
   "cell_type": "code",
   "source": [
    "print(\"T'Statistic: \", t_stat)\n",
    "print(\"P-value: \", p_val)"
   ],
   "id": "e9feb7d39ca02a5d",
   "outputs": [
    {
     "name": "stdout",
     "output_type": "stream",
     "text": [
      "T'Statistic:  -64.47923713919985\n",
      "P-value:  7.181767814881781e-33\n"
     ]
    }
   ],
   "execution_count": 224
  },
  {
   "metadata": {},
   "cell_type": "markdown",
   "source": [
    "Interpretation:\n",
    "\n",
    "If p < 0.05, reject H₀ → Mean beef consumption (Argentina) = Mean beef consumption (Bangladesh)\n",
    "\n",
    "If p ≥ 0.05, fail to reject H₀.\n",
    "\n",
    "**CONCLUSION**: Since, p < 0.05, the mean beef consumption of Argentina is significantly different from Bangladesh"
   ],
   "id": "803bbf425c857a16"
  },
  {
   "metadata": {
    "ExecuteTime": {
     "end_time": "2025-09-29T13:01:33.156521Z",
     "start_time": "2025-09-29T13:01:33.150328Z"
    }
   },
   "cell_type": "code",
   "source": [
    "\n",
    "# Using independent two-sample t-test\n",
    "t_statistic, p_value = stats.ttest_ind(arg_beef_samples, bang_beef_samples, equal_var=False)\n"
   ],
   "id": "2de734b929d0a7ff",
   "outputs": [],
   "execution_count": 225
  },
  {
   "metadata": {
    "ExecuteTime": {
     "end_time": "2025-09-29T13:01:33.200360Z",
     "start_time": "2025-09-29T13:01:33.191229Z"
    }
   },
   "cell_type": "code",
   "source": [
    "\n",
    "print(f\"T-statistic: {t_statistic}\")\n",
    "print(f\"P-value: {p_value}\")"
   ],
   "id": "f5cde42236e049e1",
   "outputs": [
    {
     "name": "stdout",
     "output_type": "stream",
     "text": [
      "T-statistic: 45.56550535993598\n",
      "P-value: 4.508880481655939e-47\n"
     ]
    }
   ],
   "execution_count": 226
  },
  {
   "metadata": {
    "ExecuteTime": {
     "end_time": "2025-09-29T13:01:33.260760Z",
     "start_time": "2025-09-29T13:01:33.256113Z"
    }
   },
   "cell_type": "code",
   "source": [
    "alpha = 0.05\n",
    "\n",
    "print(f\"\\nSignificance level (alpha): {alpha}\")\n",
    "if p_value < alpha:\n",
    "    print(f\"The p-value ({p_value:.10f}) is less than alpha. Reject the null hypothesis.\")\n",
    "    print(\"Conclusion: The mean beef consumption in Argentina is significantly different from that in Bangladesh.\")\n",
    "else:\n",
    "    print(f\"The p-value ({p_value:.10f}) is greater than alpha. Fail to reject the null hypothesis.\")\n",
    "    print(\"Conclusion: There is no significant difference in the mean beef consumption.\")\n",
    "\n"
   ],
   "id": "775409e512b6ecaf",
   "outputs": [
    {
     "name": "stdout",
     "output_type": "stream",
     "text": [
      "\n",
      "Significance level (alpha): 0.05\n",
      "The p-value (0.0000000000) is less than alpha. Reject the null hypothesis.\n",
      "Conclusion: The mean beef consumption in Argentina is significantly different from that in Bangladesh.\n"
     ]
    }
   ],
   "execution_count": 227
  }
 ],
 "metadata": {
  "kernelspec": {
   "display_name": "Python 3",
   "language": "python",
   "name": "python3"
  },
  "language_info": {
   "codemirror_mode": {
    "name": "ipython",
    "version": 2
   },
   "file_extension": ".py",
   "mimetype": "text/x-python",
   "name": "python",
   "nbconvert_exporter": "python",
   "pygments_lexer": "ipython2",
   "version": "2.7.6"
  }
 },
 "nbformat": 4,
 "nbformat_minor": 5
}
