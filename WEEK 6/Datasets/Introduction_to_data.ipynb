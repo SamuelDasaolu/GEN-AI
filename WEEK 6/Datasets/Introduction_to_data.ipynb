{
 "cells": [
  {
   "cell_type": "markdown",
   "id": "ad60ecc2-89ce-499b-9746-c2411f429380",
   "metadata": {},
   "source": [
    "# Machine Learning Course for professionals"
   ]
  },
  {
   "cell_type": "markdown",
   "id": "23e60a47-50f1-496b-a197-f6f279c53fd1",
   "metadata": {},
   "source": [
    "Hello there,\n",
    "\n",
    "My name is *Chris*, I am a Machine Learning Engineer at Publica AI.\n",
    "I will be taking you through this course.\n",
    "This is the **markdown cell** of the jupyter notebook, but before we move further, I would like  to write a few lines of code in the code cell below."
   ]
  },
  {
   "cell_type": "code",
   "execution_count": 7,
   "id": "3c495b6a-0d20-46bb-b438-df850d7edf99",
   "metadata": {},
   "outputs": [
    {
     "name": "stdout",
     "output_type": "stream",
     "text": [
      "Hello! Welcome to Machine Learning Course for Professionals\n"
     ]
    }
   ],
   "source": [
    "greet_the_class = \"Hello! Welcome to Machine Learning Course for Professionals\"\n",
    "print(greet_the_class)"
   ]
  },
  {
   "cell_type": "code",
   "execution_count": null,
   "id": "6216a100-bc73-48cd-ab12-aac0a34e934c",
   "metadata": {},
   "outputs": [],
   "source": []
  },
  {
   "cell_type": "code",
   "execution_count": null,
   "id": "c27fded2-54fc-4bfb-898c-10c76a856009",
   "metadata": {},
   "outputs": [],
   "source": []
  },
  {
   "cell_type": "code",
   "execution_count": null,
   "id": "99d1ca04-a4b5-4d14-9a53-9995c035b4cf",
   "metadata": {},
   "outputs": [],
   "source": []
  }
 ],
 "metadata": {
  "kernelspec": {
   "display_name": "Python 3 (ipykernel)",
   "language": "python",
   "name": "python3"
  },
  "language_info": {
   "codemirror_mode": {
    "name": "ipython",
    "version": 3
   },
   "file_extension": ".py",
   "mimetype": "text/x-python",
   "name": "python",
   "nbconvert_exporter": "python",
   "pygments_lexer": "ipython3",
   "version": "3.12.7"
  }
 },
 "nbformat": 4,
 "nbformat_minor": 5
}
