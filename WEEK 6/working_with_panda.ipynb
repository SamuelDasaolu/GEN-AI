{
 "cells": [
  {
   "cell_type": "code",
   "execution_count": 2,
   "id": "026d93aa",
   "metadata": {},
   "outputs": [
    {
     "data": {
      "text/plain": [
       "0     1\n",
       "1     2\n",
       "2     3\n",
       "3     9\n",
       "4     5\n",
       "5     6\n",
       "6     7\n",
       "7     8\n",
       "8     9\n",
       "9    10\n",
       "dtype: int64"
      ]
     },
     "execution_count": 2,
     "metadata": {},
     "output_type": "execute_result"
    }
   ],
   "source": [
    "import pandas as pd\n",
    "data = [1,2,3,9,5,6,7,8,9,10]\n",
    "series =  pd.Series(data)\n",
    "series.head(10)\n",
    "# type(series)\n"
   ]
  },
  {
   "cell_type": "code",
   "execution_count": 68,
   "id": "396e20d7",
   "metadata": {},
   "outputs": [
    {
     "data": {
      "text/plain": [
       "a     1\n",
       "b     2\n",
       "c     3\n",
       "d     9\n",
       "e     5\n",
       "f     6\n",
       "g     7\n",
       "h     8\n",
       "i     9\n",
       "j    10\n",
       "dtype: int64"
      ]
     },
     "execution_count": 68,
     "metadata": {},
     "output_type": "execute_result"
    }
   ],
   "source": [
    "index = ['a', 'b', 'c', 'd', 'e', 'f', 'g', 'h', 'i', 'j']\n",
    "series2 = pd.Series(data, index = index)\n",
    "series2.head(10)"
   ]
  },
  {
   "cell_type": "code",
   "execution_count": 3,
   "id": "7f7a86b1",
   "metadata": {},
   "outputs": [
    {
     "data": {
      "text/plain": [
       "a    10\n",
       "b    20\n",
       "c    30\n",
       "dtype: int64"
      ]
     },
     "execution_count": 3,
     "metadata": {},
     "output_type": "execute_result"
    }
   ],
   "source": [
    "data2 = {'a': 10, 'b': 20, 'c': 30}\n",
    "series3 = pd.Series(data2)\n",
    "series3.head()"
   ]
  },
  {
   "cell_type": "markdown",
   "id": "f2b743e8",
   "metadata": {},
   "source": [
    "__________________________________________________\n",
    "**Hands on practice**:\n",
    "1. Create a bucket list of 6 items. Convert the list to pandas series and define index for it using alphabets.\n",
    "2. Create a simple python dictionary of your biodata with 5 keys and their corresponding values. Convert the dictionary into a pandas series.\n",
    "\n",
    "_depending on where you are viewing this notebook you are either to download it or make a copy._\n",
    "________________________________________________"
   ]
  },
  {
   "cell_type": "code",
   "execution_count": 6,
   "id": "b075f403",
   "metadata": {},
   "outputs": [
    {
     "data": {
      "text/plain": [
       "s        swimming\n",
       "s         ski-ing\n",
       "b     basejumping\n",
       "g        grafitti\n",
       "s         skatinf\n",
       "p    para-sailing\n",
       "dtype: object"
      ]
     },
     "execution_count": 6,
     "metadata": {},
     "output_type": "execute_result"
    }
   ],
   "source": [
    "# Task 1\n",
    "bucket_list = ['swimming', 'ski-ing', 'basejumping', 'grafitti', 'skatinf', 'para-sailing']\n",
    "index = [i[0] for i in bucket_list] # Using first letter of each\n",
    "pd_series = pd.Series(bucket_list, index)\n",
    "pd_series.head(6)"
   ]
  },
  {
   "cell_type": "code",
   "execution_count": 7,
   "id": "2e7c7a52",
   "metadata": {},
   "outputs": [
    {
     "data": {
      "text/plain": [
       "name      Samuel Dasaolu\n",
       "age                   17\n",
       "class               500L\n",
       "height               1.8\n",
       "gender              male\n",
       "dtype: object"
      ]
     },
     "execution_count": 7,
     "metadata": {},
     "output_type": "execute_result"
    }
   ],
   "source": [
    "# Task 2\n",
    "biodata = {\n",
    "    'name': 'Samuel Dasaolu', \n",
    "    'age': 17, \n",
    "    'class': '500L', \n",
    "    'height': 1.8, \n",
    "    'gender': 'male', \n",
    "}\n",
    "\n",
    "pd_series = pd.Series(biodata)\n",
    "pd_series.head()"
   ]
  },
  {
   "cell_type": "code",
   "execution_count": null,
   "id": "804d7cad",
   "metadata": {},
   "outputs": [
    {
     "data": {
      "text/html": [
       "<div>\n",
       "<style scoped>\n",
       "    .dataframe tbody tr th:only-of-type {\n",
       "        vertical-align: middle;\n",
       "    }\n",
       "\n",
       "    .dataframe tbody tr th {\n",
       "        vertical-align: top;\n",
       "    }\n",
       "\n",
       "    .dataframe thead th {\n",
       "        text-align: right;\n",
       "    }\n",
       "</style>\n",
       "<table border=\"1\" class=\"dataframe\">\n",
       "  <thead>\n",
       "    <tr style=\"text-align: right;\">\n",
       "      <th></th>\n",
       "      <th>Name</th>\n",
       "      <th>Age</th>\n",
       "      <th>Home_Town</th>\n",
       "    </tr>\n",
       "  </thead>\n",
       "  <tbody>\n",
       "    <tr>\n",
       "      <th>0</th>\n",
       "      <td>Chris</td>\n",
       "      <td>26</td>\n",
       "      <td>Benin</td>\n",
       "    </tr>\n",
       "    <tr>\n",
       "      <th>1</th>\n",
       "      <td>Ayo</td>\n",
       "      <td>24</td>\n",
       "      <td>Ibadan</td>\n",
       "    </tr>\n",
       "    <tr>\n",
       "      <th>2</th>\n",
       "      <td>Chisom</td>\n",
       "      <td>22</td>\n",
       "      <td>Enugu</td>\n",
       "    </tr>\n",
       "  </tbody>\n",
       "</table>\n",
       "</div>"
      ],
      "text/plain": [
       "     Name  Age Home_Town\n",
       "0   Chris   26     Benin\n",
       "1     Ayo   24    Ibadan\n",
       "2  Chisom   22     Enugu"
      ]
     },
     "execution_count": 3,
     "metadata": {},
     "output_type": "execute_result"
    }
   ],
   "source": [
    "import pandas as pd\n",
    "\n",
    "data = { # Dictionary of lists\n",
    "    'Name': ['Chris', 'Ayo', 'Chisom'],\n",
    "    'Age': [26, 24, 22],\n",
    "    'Home_Town': ['Benin', 'Ibadan', 'Enugu']\n",
    "}\n",
    "\n",
    "# Creating Dataframes\n",
    "df = pd.DataFrame(data)\n",
    "df.head()"
   ]
  },
  {
   "cell_type": "code",
   "execution_count": 8,
   "id": "175ea0af",
   "metadata": {},
   "outputs": [
    {
     "data": {
      "text/html": [
       "<div>\n",
       "<style scoped>\n",
       "    .dataframe tbody tr th:only-of-type {\n",
       "        vertical-align: middle;\n",
       "    }\n",
       "\n",
       "    .dataframe tbody tr th {\n",
       "        vertical-align: top;\n",
       "    }\n",
       "\n",
       "    .dataframe thead th {\n",
       "        text-align: right;\n",
       "    }\n",
       "</style>\n",
       "<table border=\"1\" class=\"dataframe\">\n",
       "  <thead>\n",
       "    <tr style=\"text-align: right;\">\n",
       "      <th></th>\n",
       "      <th>Name</th>\n",
       "      <th>Age</th>\n",
       "      <th>Home_Town</th>\n",
       "    </tr>\n",
       "  </thead>\n",
       "  <tbody>\n",
       "    <tr>\n",
       "      <th>0</th>\n",
       "      <td>Chris</td>\n",
       "      <td>26</td>\n",
       "      <td>Benin</td>\n",
       "    </tr>\n",
       "    <tr>\n",
       "      <th>1</th>\n",
       "      <td>Ayo</td>\n",
       "      <td>24</td>\n",
       "      <td>Ibadan</td>\n",
       "    </tr>\n",
       "    <tr>\n",
       "      <th>2</th>\n",
       "      <td>Chisom</td>\n",
       "      <td>22</td>\n",
       "      <td>Enugu</td>\n",
       "    </tr>\n",
       "  </tbody>\n",
       "</table>\n",
       "</div>"
      ],
      "text/plain": [
       "     Name  Age Home_Town\n",
       "0   Chris   26     Benin\n",
       "1     Ayo   24    Ibadan\n",
       "2  Chisom   22     Enugu"
      ]
     },
     "execution_count": 8,
     "metadata": {},
     "output_type": "execute_result"
    }
   ],
   "source": [
    "\n",
    "data2 = [ # list of dictionaries\n",
    "    {'Name': 'Chris', 'Age': 26, 'Home_Town': 'Benin'},\n",
    "    {'Name': 'Ayo', 'Age': 24, 'Home_Town': 'Ibadan'},\n",
    "    {'Name': 'Chisom', 'Age': 22, 'Home_Town': 'Enugu'}\n",
    "]\n",
    "df2 = pd.DataFrame(data2)\n",
    "df2.head()"
   ]
  },
  {
   "cell_type": "code",
   "execution_count": 9,
   "id": "ef06d9b0",
   "metadata": {},
   "outputs": [
    {
     "data": {
      "text/html": [
       "<div>\n",
       "<style scoped>\n",
       "    .dataframe tbody tr th:only-of-type {\n",
       "        vertical-align: middle;\n",
       "    }\n",
       "\n",
       "    .dataframe tbody tr th {\n",
       "        vertical-align: top;\n",
       "    }\n",
       "\n",
       "    .dataframe thead th {\n",
       "        text-align: right;\n",
       "    }\n",
       "</style>\n",
       "<table border=\"1\" class=\"dataframe\">\n",
       "  <thead>\n",
       "    <tr style=\"text-align: right;\">\n",
       "      <th></th>\n",
       "      <th>Name</th>\n",
       "      <th>Age</th>\n",
       "      <th>Home_Town</th>\n",
       "    </tr>\n",
       "  </thead>\n",
       "  <tbody>\n",
       "    <tr>\n",
       "      <th>0</th>\n",
       "      <td>Chris</td>\n",
       "      <td>26</td>\n",
       "      <td>Benin</td>\n",
       "    </tr>\n",
       "    <tr>\n",
       "      <th>1</th>\n",
       "      <td>Ayo</td>\n",
       "      <td>24</td>\n",
       "      <td>Ibadan</td>\n",
       "    </tr>\n",
       "    <tr>\n",
       "      <th>2</th>\n",
       "      <td>Chisom</td>\n",
       "      <td>22</td>\n",
       "      <td>Enugu</td>\n",
       "    </tr>\n",
       "  </tbody>\n",
       "</table>\n",
       "</div>"
      ],
      "text/plain": [
       "     Name  Age Home_Town\n",
       "0   Chris   26     Benin\n",
       "1     Ayo   24    Ibadan\n",
       "2  Chisom   22     Enugu"
      ]
     },
     "execution_count": 9,
     "metadata": {},
     "output_type": "execute_result"
    }
   ],
   "source": [
    "data3 = [ # List of lists\n",
    "    ['Chris', 26, 'Benin'],\n",
    "    ['Ayo', 24, 'Ibadan'],\n",
    "    ['Chisom', 22, 'Enugu']\n",
    "]\n",
    "df3 = pd.DataFrame(data3, columns=['Name', 'Age', 'Home_Town'])\n",
    "df3.head()"
   ]
  },
  {
   "cell_type": "code",
   "execution_count": null,
   "id": "29541369",
   "metadata": {},
   "outputs": [
    {
     "name": "stdout",
     "output_type": "stream",
     "text": [
      "<class 'pandas.core.frame.DataFrame'>\n"
     ]
    },
    {
     "data": {
      "text/plain": [
       "pandas.core.frame.DataFrame"
      ]
     },
     "execution_count": 18,
     "metadata": {},
     "output_type": "execute_result"
    }
   ],
   "source": [
    "# lets print the types to be sure we have defined dataframes\n",
    "print(type(df))\n",
    "print(type(df2))\n",
    "print(type(df3))"
   ]
  }
 ],
 "metadata": {
  "kernelspec": {
   "display_name": ".gen_ai",
   "language": "python",
   "name": "python3"
  },
  "language_info": {
   "codemirror_mode": {
    "name": "ipython",
    "version": 3
   },
   "file_extension": ".py",
   "mimetype": "text/x-python",
   "name": "python",
   "nbconvert_exporter": "python",
   "pygments_lexer": "ipython3",
   "version": "3.13.7"
  }
 },
 "nbformat": 4,
 "nbformat_minor": 5
}
