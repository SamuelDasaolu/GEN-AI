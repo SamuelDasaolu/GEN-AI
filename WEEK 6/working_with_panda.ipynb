{
 "cells": [
  {
   "cell_type": "code",
   "execution_count": 2,
   "id": "026d93aa",
   "metadata": {},
   "outputs": [
    {
     "data": {
      "text/plain": [
       "0     1\n",
       "1     2\n",
       "2     3\n",
       "3     9\n",
       "4     5\n",
       "5     6\n",
       "6     7\n",
       "7     8\n",
       "8     9\n",
       "9    10\n",
       "dtype: int64"
      ]
     },
     "execution_count": 2,
     "metadata": {},
     "output_type": "execute_result"
    }
   ],
   "source": [
    "import pandas as pd\n",
    "data = [1,2,3,9,5,6,7,8,9,10]\n",
    "series =  pd.Series(data)\n",
    "series.head(10)\n",
    "# type(series)\n"
   ]
  },
  {
   "cell_type": "code",
   "execution_count": 68,
   "id": "396e20d7",
   "metadata": {},
   "outputs": [
    {
     "data": {
      "text/plain": [
       "a     1\n",
       "b     2\n",
       "c     3\n",
       "d     9\n",
       "e     5\n",
       "f     6\n",
       "g     7\n",
       "h     8\n",
       "i     9\n",
       "j    10\n",
       "dtype: int64"
      ]
     },
     "execution_count": 68,
     "metadata": {},
     "output_type": "execute_result"
    }
   ],
   "source": [
    "index = ['a', 'b', 'c', 'd', 'e', 'f', 'g', 'h', 'i', 'j']\n",
    "series2 = pd.Series(data, index = index)\n",
    "series2.head(10)"
   ]
  },
  {
   "cell_type": "code",
   "execution_count": 3,
   "id": "7f7a86b1",
   "metadata": {},
   "outputs": [
    {
     "data": {
      "text/plain": [
       "a    10\n",
       "b    20\n",
       "c    30\n",
       "dtype: int64"
      ]
     },
     "execution_count": 3,
     "metadata": {},
     "output_type": "execute_result"
    }
   ],
   "source": [
    "data2 = {'a': 10, 'b': 20, 'c': 30}\n",
    "series3 = pd.Series(data2)\n",
    "series3.head()"
   ]
  },
  {
   "cell_type": "markdown",
   "id": "f2b743e8",
   "metadata": {},
   "source": [
    "__________________________________________________\n",
    "**Hands on practice**:\n",
    "1. Create a bucket list of 6 items. Convert the list to pandas series and define index for it using alphabets.\n",
    "2. Create a simple python dictionary of your biodata with 5 keys and their corresponding values. Convert the dictionary into a pandas series.\n",
    "\n",
    "_depending on where you are viewing this notebook you are either to download it or make a copy._\n",
    "________________________________________________"
   ]
  },
  {
   "cell_type": "code",
   "execution_count": 6,
   "id": "b075f403",
   "metadata": {},
   "outputs": [
    {
     "data": {
      "text/plain": [
       "s        swimming\n",
       "s         ski-ing\n",
       "b     basejumping\n",
       "g        grafitti\n",
       "s         skatinf\n",
       "p    para-sailing\n",
       "dtype: object"
      ]
     },
     "execution_count": 6,
     "metadata": {},
     "output_type": "execute_result"
    }
   ],
   "source": [
    "# Task 1\n",
    "bucket_list = ['swimming', 'ski-ing', 'basejumping', 'grafitti', 'skatinf', 'para-sailing']\n",
    "index = [i[0] for i in bucket_list] # Using first letter of each\n",
    "pd_series = pd.Series(bucket_list, index)\n",
    "pd_series.head(6)"
   ]
  },
  {
   "cell_type": "code",
   "execution_count": 7,
   "id": "2e7c7a52",
   "metadata": {},
   "outputs": [
    {
     "data": {
      "text/plain": [
       "name      Samuel Dasaolu\n",
       "age                   17\n",
       "class               500L\n",
       "height               1.8\n",
       "gender              male\n",
       "dtype: object"
      ]
     },
     "execution_count": 7,
     "metadata": {},
     "output_type": "execute_result"
    }
   ],
   "source": [
    "# Task 2\n",
    "biodata = {\n",
    "    'name': 'Samuel Dasaolu', \n",
    "    'age': 17, \n",
    "    'class': '500L', \n",
    "    'height': 1.8, \n",
    "    'gender': 'male', \n",
    "}\n",
    "\n",
    "pd_series = pd.Series(biodata)\n",
    "pd_series.head()"
   ]
  },
  {
   "cell_type": "code",
   "execution_count": null,
   "id": "804d7cad",
   "metadata": {},
   "outputs": [
    {
     "data": {
      "text/html": [
       "<div>\n",
       "<style scoped>\n",
       "    .dataframe tbody tr th:only-of-type {\n",
       "        vertical-align: middle;\n",
       "    }\n",
       "\n",
       "    .dataframe tbody tr th {\n",
       "        vertical-align: top;\n",
       "    }\n",
       "\n",
       "    .dataframe thead th {\n",
       "        text-align: right;\n",
       "    }\n",
       "</style>\n",
       "<table border=\"1\" class=\"dataframe\">\n",
       "  <thead>\n",
       "    <tr style=\"text-align: right;\">\n",
       "      <th></th>\n",
       "      <th>Name</th>\n",
       "      <th>Age</th>\n",
       "      <th>Home_Town</th>\n",
       "    </tr>\n",
       "  </thead>\n",
       "  <tbody>\n",
       "    <tr>\n",
       "      <th>0</th>\n",
       "      <td>Chris</td>\n",
       "      <td>26</td>\n",
       "      <td>Benin</td>\n",
       "    </tr>\n",
       "    <tr>\n",
       "      <th>1</th>\n",
       "      <td>Ayo</td>\n",
       "      <td>24</td>\n",
       "      <td>Ibadan</td>\n",
       "    </tr>\n",
       "    <tr>\n",
       "      <th>2</th>\n",
       "      <td>Chisom</td>\n",
       "      <td>22</td>\n",
       "      <td>Enugu</td>\n",
       "    </tr>\n",
       "  </tbody>\n",
       "</table>\n",
       "</div>"
      ],
      "text/plain": [
       "     Name  Age Home_Town\n",
       "0   Chris   26     Benin\n",
       "1     Ayo   24    Ibadan\n",
       "2  Chisom   22     Enugu"
      ]
     },
     "execution_count": 3,
     "metadata": {},
     "output_type": "execute_result"
    }
   ],
   "source": [
    "import pandas as pd\n",
    "\n",
    "data = { # Dictionary of lists\n",
    "    'Name': ['Chris', 'Ayo', 'Chisom'],\n",
    "    'Age': [26, 24, 22],\n",
    "    'Home_Town': ['Benin', 'Ibadan', 'Enugu']\n",
    "}\n",
    "\n",
    "# Creating Dataframes\n",
    "df = pd.DataFrame(data)\n",
    "df.head()"
   ]
  },
  {
   "cell_type": "code",
   "execution_count": 8,
   "id": "175ea0af",
   "metadata": {},
   "outputs": [
    {
     "data": {
      "text/html": [
       "<div>\n",
       "<style scoped>\n",
       "    .dataframe tbody tr th:only-of-type {\n",
       "        vertical-align: middle;\n",
       "    }\n",
       "\n",
       "    .dataframe tbody tr th {\n",
       "        vertical-align: top;\n",
       "    }\n",
       "\n",
       "    .dataframe thead th {\n",
       "        text-align: right;\n",
       "    }\n",
       "</style>\n",
       "<table border=\"1\" class=\"dataframe\">\n",
       "  <thead>\n",
       "    <tr style=\"text-align: right;\">\n",
       "      <th></th>\n",
       "      <th>Name</th>\n",
       "      <th>Age</th>\n",
       "      <th>Home_Town</th>\n",
       "    </tr>\n",
       "  </thead>\n",
       "  <tbody>\n",
       "    <tr>\n",
       "      <th>0</th>\n",
       "      <td>Chris</td>\n",
       "      <td>26</td>\n",
       "      <td>Benin</td>\n",
       "    </tr>\n",
       "    <tr>\n",
       "      <th>1</th>\n",
       "      <td>Ayo</td>\n",
       "      <td>24</td>\n",
       "      <td>Ibadan</td>\n",
       "    </tr>\n",
       "    <tr>\n",
       "      <th>2</th>\n",
       "      <td>Chisom</td>\n",
       "      <td>22</td>\n",
       "      <td>Enugu</td>\n",
       "    </tr>\n",
       "  </tbody>\n",
       "</table>\n",
       "</div>"
      ],
      "text/plain": [
       "     Name  Age Home_Town\n",
       "0   Chris   26     Benin\n",
       "1     Ayo   24    Ibadan\n",
       "2  Chisom   22     Enugu"
      ]
     },
     "execution_count": 8,
     "metadata": {},
     "output_type": "execute_result"
    }
   ],
   "source": [
    "\n",
    "data2 = [ # list of dictionaries\n",
    "    {'Name': 'Chris', 'Age': 26, 'Home_Town': 'Benin'},\n",
    "    {'Name': 'Ayo', 'Age': 24, 'Home_Town': 'Ibadan'},\n",
    "    {'Name': 'Chisom', 'Age': 22, 'Home_Town': 'Enugu'}\n",
    "]\n",
    "df2 = pd.DataFrame(data2)\n",
    "df2.head()"
   ]
  },
  {
   "cell_type": "code",
   "execution_count": 9,
   "id": "ef06d9b0",
   "metadata": {},
   "outputs": [
    {
     "data": {
      "text/html": [
       "<div>\n",
       "<style scoped>\n",
       "    .dataframe tbody tr th:only-of-type {\n",
       "        vertical-align: middle;\n",
       "    }\n",
       "\n",
       "    .dataframe tbody tr th {\n",
       "        vertical-align: top;\n",
       "    }\n",
       "\n",
       "    .dataframe thead th {\n",
       "        text-align: right;\n",
       "    }\n",
       "</style>\n",
       "<table border=\"1\" class=\"dataframe\">\n",
       "  <thead>\n",
       "    <tr style=\"text-align: right;\">\n",
       "      <th></th>\n",
       "      <th>Name</th>\n",
       "      <th>Age</th>\n",
       "      <th>Home_Town</th>\n",
       "    </tr>\n",
       "  </thead>\n",
       "  <tbody>\n",
       "    <tr>\n",
       "      <th>0</th>\n",
       "      <td>Chris</td>\n",
       "      <td>26</td>\n",
       "      <td>Benin</td>\n",
       "    </tr>\n",
       "    <tr>\n",
       "      <th>1</th>\n",
       "      <td>Ayo</td>\n",
       "      <td>24</td>\n",
       "      <td>Ibadan</td>\n",
       "    </tr>\n",
       "    <tr>\n",
       "      <th>2</th>\n",
       "      <td>Chisom</td>\n",
       "      <td>22</td>\n",
       "      <td>Enugu</td>\n",
       "    </tr>\n",
       "  </tbody>\n",
       "</table>\n",
       "</div>"
      ],
      "text/plain": [
       "     Name  Age Home_Town\n",
       "0   Chris   26     Benin\n",
       "1     Ayo   24    Ibadan\n",
       "2  Chisom   22     Enugu"
      ]
     },
     "execution_count": 9,
     "metadata": {},
     "output_type": "execute_result"
    }
   ],
   "source": [
    "data3 = [ # List of lists\n",
    "    ['Chris', 26, 'Benin'],\n",
    "    ['Ayo', 24, 'Ibadan'],\n",
    "    ['Chisom', 22, 'Enugu']\n",
    "]\n",
    "df3 = pd.DataFrame(data3, columns=['Name', 'Age', 'Home_Town'])\n",
    "df3.head()"
   ]
  },
  {
   "cell_type": "code",
   "execution_count": null,
   "id": "29541369",
   "metadata": {},
   "outputs": [
    {
     "name": "stdout",
     "output_type": "stream",
     "text": [
      "<class 'pandas.core.frame.DataFrame'>\n"
     ]
    },
    {
     "data": {
      "text/plain": [
       "pandas.core.frame.DataFrame"
      ]
     },
     "execution_count": 18,
     "metadata": {},
     "output_type": "execute_result"
    }
   ],
   "source": [
    "# lets print the types to be sure we have defined dataframes\n",
    "print(type(df))\n",
    "print(type(df2))\n",
    "print(type(df3))"
   ]
  },
  {
   "cell_type": "markdown",
   "id": "ac196688",
   "metadata": {},
   "source": [
    "**Hands on practice**\n",
    "\n",
    "* **Creating a dataset:**\n",
    "\n",
    "Lets create a google sheet, make the link accessible to everyone to input the following information First_Name, Last_Name, Gender, Seat_No, City, Course_Track, PC_make, PC_Os, and Feedback.\n",
    "\n",
    "At the end of the collection, we will use the data to practice data manipulation.\n",
    "---\n"
   ]
  },
  {
   "cell_type": "code",
   "execution_count": 153,
   "id": "6f3434a0",
   "metadata": {},
   "outputs": [
    {
     "data": {
      "text/html": [
       "<div>\n",
       "<style scoped>\n",
       "    .dataframe tbody tr th:only-of-type {\n",
       "        vertical-align: middle;\n",
       "    }\n",
       "\n",
       "    .dataframe tbody tr th {\n",
       "        vertical-align: top;\n",
       "    }\n",
       "\n",
       "    .dataframe thead th {\n",
       "        text-align: right;\n",
       "    }\n",
       "</style>\n",
       "<table border=\"1\" class=\"dataframe\">\n",
       "  <thead>\n",
       "    <tr style=\"text-align: right;\">\n",
       "      <th></th>\n",
       "      <th>Timestamp</th>\n",
       "      <th>First Name</th>\n",
       "      <th>Last Name</th>\n",
       "      <th>Course Track</th>\n",
       "      <th>City</th>\n",
       "      <th>Gender</th>\n",
       "      <th>Seat Number</th>\n",
       "      <th>PC-Make</th>\n",
       "      <th>PC - OS</th>\n",
       "      <th>Feedback</th>\n",
       "    </tr>\n",
       "  </thead>\n",
       "  <tbody>\n",
       "    <tr>\n",
       "      <th>0</th>\n",
       "      <td>2025/09/11 12:55:34 PM GMT+1</td>\n",
       "      <td>Peter</td>\n",
       "      <td>NaN</td>\n",
       "      <td>AI</td>\n",
       "      <td>Ogun</td>\n",
       "      <td>Male</td>\n",
       "      <td>28</td>\n",
       "      <td>MACBOOK</td>\n",
       "      <td>Mac OS</td>\n",
       "      <td>non</td>\n",
       "    </tr>\n",
       "    <tr>\n",
       "      <th>1</th>\n",
       "      <td>2025/09/11 12:56:11 PM GMT+1</td>\n",
       "      <td>Toyeebat</td>\n",
       "      <td>Nababa</td>\n",
       "      <td>AI</td>\n",
       "      <td>Abeokuta</td>\n",
       "      <td>Female</td>\n",
       "      <td>24</td>\n",
       "      <td>HP</td>\n",
       "      <td>Windows</td>\n",
       "      <td>Excellent</td>\n",
       "    </tr>\n",
       "    <tr>\n",
       "      <th>2</th>\n",
       "      <td>2025/09/11 12:57:08 PM GMT+1</td>\n",
       "      <td>Perpetual</td>\n",
       "      <td>Meninwa</td>\n",
       "      <td>AI</td>\n",
       "      <td>Lagos</td>\n",
       "      <td>Female</td>\n",
       "      <td>22</td>\n",
       "      <td>HP</td>\n",
       "      <td>Windows</td>\n",
       "      <td>Thank you so much for the opportunity.</td>\n",
       "    </tr>\n",
       "    <tr>\n",
       "      <th>3</th>\n",
       "      <td>2025/09/11 12:57:56 PM GMT+1</td>\n",
       "      <td>Mahfuz</td>\n",
       "      <td>Abdulhameed</td>\n",
       "      <td>AI</td>\n",
       "      <td>Abeokuta</td>\n",
       "      <td>Male</td>\n",
       "      <td>44</td>\n",
       "      <td>HP</td>\n",
       "      <td>Windows</td>\n",
       "      <td>Amazing Shit</td>\n",
       "    </tr>\n",
       "    <tr>\n",
       "      <th>4</th>\n",
       "      <td>2025/09/11 12:58:41 PM GMT+1</td>\n",
       "      <td>Divine</td>\n",
       "      <td>Gbadamosi</td>\n",
       "      <td>AI</td>\n",
       "      <td>Abeokuta</td>\n",
       "      <td>Male</td>\n",
       "      <td>35</td>\n",
       "      <td>DELL</td>\n",
       "      <td>Windows</td>\n",
       "      <td>Brain Racking</td>\n",
       "    </tr>\n",
       "  </tbody>\n",
       "</table>\n",
       "</div>"
      ],
      "text/plain": [
       "                      Timestamp First Name    Last Name Course Track      City  Gender Seat Number  PC-Make  PC - OS                                Feedback\n",
       "0  2025/09/11 12:55:34 PM GMT+1      Peter          NaN           AI      Ogun    Male          28  MACBOOK   Mac OS                                     non\n",
       "1  2025/09/11 12:56:11 PM GMT+1   Toyeebat       Nababa           AI  Abeokuta  Female          24       HP  Windows                               Excellent\n",
       "2  2025/09/11 12:57:08 PM GMT+1  Perpetual      Meninwa           AI     Lagos  Female          22       HP  Windows  Thank you so much for the opportunity.\n",
       "3  2025/09/11 12:57:56 PM GMT+1     Mahfuz  Abdulhameed           AI  Abeokuta    Male          44       HP  Windows                            Amazing Shit\n",
       "4  2025/09/11 12:58:41 PM GMT+1     Divine    Gbadamosi           AI  Abeokuta    Male          35     DELL  Windows                           Brain Racking"
      ]
     },
     "execution_count": 153,
     "metadata": {},
     "output_type": "execute_result"
    }
   ],
   "source": [
    "from pathlib import Path\n",
    "import pandas as pd\n",
    "\n",
    "pd.set_option('display.max_columns', None)\n",
    "pd.set_option('display.width', 1000000)\n",
    "\n",
    "filepath = Path('bio-data.csv')\n",
    " \n",
    "df = pd.read_csv(filepath)\n",
    "df.head()"
   ]
  },
  {
   "cell_type": "code",
   "execution_count": 151,
   "id": "fcd01ab2",
   "metadata": {},
   "outputs": [
    {
     "data": {
      "text/plain": [
       "Index(['Timestamp', 'First Name', 'Last Name', 'Course Track', 'City', 'Gender', 'Seat Number', 'PC-Make', 'PC - OS', 'Feedback'], dtype='object')"
      ]
     },
     "execution_count": 151,
     "metadata": {},
     "output_type": "execute_result"
    }
   ],
   "source": [
    "df.columns"
   ]
  },
  {
   "cell_type": "code",
   "execution_count": 155,
   "id": "c8df0948",
   "metadata": {},
   "outputs": [
    {
     "data": {
      "text/plain": [
       "0      True\n",
       "1     False\n",
       "2     False\n",
       "3     False\n",
       "4     False\n",
       "5     False\n",
       "6     False\n",
       "7     False\n",
       "8     False\n",
       "9     False\n",
       "10    False\n",
       "11    False\n",
       "12    False\n",
       "13    False\n",
       "14    False\n",
       "15    False\n",
       "16    False\n",
       "17    False\n",
       "18    False\n",
       "19    False\n",
       "20    False\n",
       "21    False\n",
       "22    False\n",
       "23    False\n",
       "24    False\n",
       "25    False\n",
       "26    False\n",
       "27    False\n",
       "28    False\n",
       "29    False\n",
       "30    False\n",
       "31    False\n",
       "32    False\n",
       "33    False\n",
       "Name: Last Name, dtype: bool"
      ]
     },
     "execution_count": 155,
     "metadata": {},
     "output_type": "execute_result"
    }
   ],
   "source": [
    "# df.isna().sum()\n",
    "# df.fillna(value='Empty')\n",
    "# df.Timestamp\n",
    "# df.dropna()\n",
    "df['Last Name'].isna()\n"
   ]
  },
  {
   "cell_type": "code",
   "execution_count": null,
   "id": "2c9fd134",
   "metadata": {},
   "outputs": [
    {
     "name": "stderr",
     "output_type": "stream",
     "text": [
      "C:\\Users\\NCC100\\AppData\\Local\\Temp\\ipykernel_8412\\2224380025.py:3: UserWarning: Could not infer format, so each element will be parsed individually, falling back to `dateutil`. To ensure parsing is consistent and as-expected, please specify a format.\n",
      "  pd.to_datetime(df.Timestamp)\n"
     ]
    },
    {
     "data": {
      "text/plain": [
       "0     2025/09/11 12:55:34 PM GMT+1\n",
       "1     2025/09/11 12:56:11 PM GMT+1\n",
       "2     2025/09/11 12:57:08 PM GMT+1\n",
       "3     2025/09/11 12:57:56 PM GMT+1\n",
       "4     2025/09/11 12:58:41 PM GMT+1\n",
       "5     2025/09/11 12:58:55 PM GMT+1\n",
       "6     2025/09/11 12:58:55 PM GMT+1\n",
       "7     2025/09/11 12:59:00 PM GMT+1\n",
       "8     2025/09/11 12:59:16 PM GMT+1\n",
       "9     2025/09/11 12:59:28 PM GMT+1\n",
       "10    2025/09/11 12:59:41 PM GMT+1\n",
       "11    2025/09/11 12:59:43 PM GMT+1\n",
       "12     2025/09/11 1:00:03 PM GMT+1\n",
       "13     2025/09/11 1:00:13 PM GMT+1\n",
       "14     2025/09/11 1:00:27 PM GMT+1\n",
       "15     2025/09/11 1:00:31 PM GMT+1\n",
       "16     2025/09/11 1:00:43 PM GMT+1\n",
       "17     2025/09/11 1:00:49 PM GMT+1\n",
       "18     2025/09/11 1:00:54 PM GMT+1\n",
       "19     2025/09/11 1:01:31 PM GMT+1\n",
       "20     2025/09/11 1:01:44 PM GMT+1\n",
       "21     2025/09/11 1:01:46 PM GMT+1\n",
       "22     2025/09/11 1:01:54 PM GMT+1\n",
       "23     2025/09/11 1:02:28 PM GMT+1\n",
       "24     2025/09/11 1:02:49 PM GMT+1\n",
       "25     2025/09/11 1:02:56 PM GMT+1\n",
       "26     2025/09/11 1:02:59 PM GMT+1\n",
       "27     2025/09/11 1:03:12 PM GMT+1\n",
       "28     2025/09/11 1:03:36 PM GMT+1\n",
       "29     2025/09/11 1:06:03 PM GMT+1\n",
       "30     2025/09/11 1:06:48 PM GMT+1\n",
       "31     2025/09/11 1:10:16 PM GMT+1\n",
       "32     2025/09/11 1:11:39 PM GMT+1\n",
       "33     2025/09/11 1:18:15 PM GMT+1\n",
       "Name: Timestamp, dtype: object"
      ]
     },
     "execution_count": 166,
     "metadata": {},
     "output_type": "execute_result"
    }
   ],
   "source": [
    "df.dtypes\n",
    "df.astype('str')\n",
    "pd.to_datetime(df.Timestamp)\n",
    "# df.Timestamp"
   ]
  }
 ],
 "metadata": {
  "kernelspec": {
   "display_name": ".gen_ai",
   "language": "python",
   "name": "python3"
  },
  "language_info": {
   "codemirror_mode": {
    "name": "ipython",
    "version": 3
   },
   "file_extension": ".py",
   "mimetype": "text/x-python",
   "name": "python",
   "nbconvert_exporter": "python",
   "pygments_lexer": "ipython3",
   "version": "3.13.7"
  }
 },
 "nbformat": 4,
 "nbformat_minor": 5
}
