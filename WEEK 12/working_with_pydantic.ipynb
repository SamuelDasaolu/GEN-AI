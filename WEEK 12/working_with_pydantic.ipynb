{
 "cells": [
  {
   "cell_type": "code",
   "id": "initial_id",
   "metadata": {
    "collapsed": true,
    "ExecuteTime": {
     "end_time": "2025-10-15T09:36:30.372116Z",
     "start_time": "2025-10-15T09:36:30.367746Z"
    }
   },
   "source": [
    "def get_average(name: str, scores: list[float]) -> float:\n",
    "    average_score = sum(scores) / len(scores)\n",
    "    print(f\"{name.capitalize()}'s average is {average_score}\")\n",
    "    return average_score"
   ],
   "outputs": [],
   "execution_count": 2
  },
  {
   "metadata": {
    "ExecuteTime": {
     "end_time": "2025-10-15T09:46:32.938230Z",
     "start_time": "2025-10-15T09:46:32.933734Z"
    }
   },
   "cell_type": "code",
   "source": "from typing import List, Dict, Union, Optional",
   "id": "6242f7f36fbcdd62",
   "outputs": [],
   "execution_count": 3
  },
  {
   "metadata": {
    "ExecuteTime": {
     "end_time": "2025-10-15T09:53:55.347308Z",
     "start_time": "2025-10-15T09:53:55.341397Z"
    }
   },
   "cell_type": "code",
   "source": [
    "def process_scores(\n",
    "        scores: List[int],\n",
    "        info: Dict[str, Union[int, float]],\n",
    "        comment: Optional[str] = None) -> None:\n",
    "    print(\"Scores\", scores)\n",
    "    print(\"Info\", info)\n",
    "    if comment:\n",
    "        print(\"Comment\", comment)"
   ],
   "id": "356a54c9818ed030",
   "outputs": [],
   "execution_count": 4
  },
  {
   "metadata": {
    "ExecuteTime": {
     "end_time": "2025-10-15T10:17:18.880978Z",
     "start_time": "2025-10-15T10:17:18.873487Z"
    }
   },
   "cell_type": "code",
   "source": [
    "from typing import Union\n",
    "\n",
    "\n",
    "def format_address(house_number: Union[int, str], street: str) -> str:\n",
    "    return f\"{house_number} {street}\"\n"
   ],
   "id": "3cba266e7fe695cc",
   "outputs": [],
   "execution_count": 7
  },
  {
   "metadata": {
    "ExecuteTime": {
     "end_time": "2025-10-15T10:17:19.243870Z",
     "start_time": "2025-10-15T10:17:19.236682Z"
    }
   },
   "cell_type": "code",
   "source": [
    "print(format_address(23, \"Ajelogo Street\"))  # 23 Ajelogo Street\n",
    "print(format_address(\"23B\", \"Ajelogo Street\"))  # 23B Ajelogo Street\n"
   ],
   "id": "5c42435a9ff02691",
   "outputs": [
    {
     "name": "stdout",
     "output_type": "stream",
     "text": [
      "23 Ajelogo Street\n",
      "23B Ajelogo Street\n"
     ]
    }
   ],
   "execution_count": 8
  },
  {
   "metadata": {
    "ExecuteTime": {
     "end_time": "2025-10-15T10:19:43.506632Z",
     "start_time": "2025-10-15T10:19:43.495540Z"
    }
   },
   "cell_type": "code",
   "source": [
    "def find_user(username: str) -> Optional[dict]:\n",
    "    if username == \"admin\":\n",
    "        return {\"username\": \"admin\", \"role\": \"superuser\"}\n",
    "    return None\n"
   ],
   "id": "1fce970009a0aa33",
   "outputs": [],
   "execution_count": 9
  },
  {
   "metadata": {
    "ExecuteTime": {
     "end_time": "2025-10-15T10:19:58.205868Z",
     "start_time": "2025-10-15T10:19:58.200780Z"
    }
   },
   "cell_type": "code",
   "source": "find_user(\"admin\")",
   "id": "a2dc24c8df7d3a0e",
   "outputs": [
    {
     "data": {
      "text/plain": [
       "{'username': 'admin', 'role': 'superuser'}"
      ]
     },
     "execution_count": 12,
     "metadata": {},
     "output_type": "execute_result"
    }
   ],
   "execution_count": 12
  },
  {
   "metadata": {
    "ExecuteTime": {
     "end_time": "2025-10-15T10:27:07.674936Z",
     "start_time": "2025-10-15T10:27:07.669737Z"
    }
   },
   "cell_type": "code",
   "source": [
    "from typing import Dict\n",
    "\n",
    "fellow_scores: Dict[str, int] = {\n",
    "    \"David\": 89,\n",
    "    \"Micheal\": 'asd',\n",
    "    23: 'string'\n",
    "}"
   ],
   "id": "52d844078f81891b",
   "outputs": [],
   "execution_count": 21
  },
  {
   "metadata": {
    "ExecuteTime": {
     "end_time": "2025-10-15T10:27:21.504947Z",
     "start_time": "2025-10-15T10:27:21.500760Z"
    }
   },
   "cell_type": "code",
   "source": [
    "from typing import Tuple\n",
    "\n",
    "fellow: Tuple[str, int, str] = (\"Perpetual\",12,\"AI Engineering\")"
   ],
   "id": "5895ae198876cf0e",
   "outputs": [],
   "execution_count": 23
  },
  {
   "metadata": {
    "ExecuteTime": {
     "end_time": "2025-10-15T10:27:28.698519Z",
     "start_time": "2025-10-15T10:27:28.690502Z"
    }
   },
   "cell_type": "code",
   "source": [
    "def ai_fellow(fellow: Tuple[str, int]) -> str:\n",
    "    name, score = fellow\n",
    "    return f\"{name} scored {score} in the last exam.\""
   ],
   "id": "f5fce4ab3390f2c0",
   "outputs": [],
   "execution_count": 24
  },
  {
   "metadata": {},
   "cell_type": "code",
   "outputs": [],
   "execution_count": null,
   "source": "",
   "id": "88b335cadd250b9d"
  }
 ],
 "metadata": {
  "kernelspec": {
   "display_name": "Python 3",
   "language": "python",
   "name": "python3"
  },
  "language_info": {
   "codemirror_mode": {
    "name": "ipython",
    "version": 2
   },
   "file_extension": ".py",
   "mimetype": "text/x-python",
   "name": "python",
   "nbconvert_exporter": "python",
   "pygments_lexer": "ipython2",
   "version": "2.7.6"
  }
 },
 "nbformat": 4,
 "nbformat_minor": 5
}
