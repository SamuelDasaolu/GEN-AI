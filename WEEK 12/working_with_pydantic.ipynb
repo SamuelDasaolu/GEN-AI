{
 "cells": [
  {
   "cell_type": "code",
   "id": "initial_id",
   "metadata": {
    "collapsed": true,
    "ExecuteTime": {
     "end_time": "2025-10-15T09:36:30.372116Z",
     "start_time": "2025-10-15T09:36:30.367746Z"
    }
   },
   "source": [
    "def get_average(name: str, scores: list[float]) -> float:\n",
    "    average_score = sum(scores) / len(scores)\n",
    "    print(f\"{name.capitalize()}'s average is {average_score}\")\n",
    "    return average_score"
   ],
   "outputs": [],
   "execution_count": 2
  },
  {
   "metadata": {
    "ExecuteTime": {
     "end_time": "2025-10-15T09:46:32.938230Z",
     "start_time": "2025-10-15T09:46:32.933734Z"
    }
   },
   "cell_type": "code",
   "source": "from typing import List, Dict, Union, Optional",
   "id": "6242f7f36fbcdd62",
   "outputs": [],
   "execution_count": 3
  },
  {
   "metadata": {
    "ExecuteTime": {
     "end_time": "2025-10-15T09:53:55.347308Z",
     "start_time": "2025-10-15T09:53:55.341397Z"
    }
   },
   "cell_type": "code",
   "source": [
    "def process_scores(\n",
    "        scores: List[int],\n",
    "        info: Dict[str, Union[int, float]],\n",
    "        comment: Optional[str] = None) -> None:\n",
    "    print(\"Scores\", scores)\n",
    "    print(\"Info\", info)\n",
    "    if comment:\n",
    "        print(\"Comment\", comment)"
   ],
   "id": "356a54c9818ed030",
   "outputs": [],
   "execution_count": 4
  },
  {
   "metadata": {
    "ExecuteTime": {
     "end_time": "2025-10-15T10:17:18.880978Z",
     "start_time": "2025-10-15T10:17:18.873487Z"
    }
   },
   "cell_type": "code",
   "source": [
    "from typing import Union\n",
    "\n",
    "\n",
    "def format_address(house_number: Union[int, str], street: str) -> str:\n",
    "    return f\"{house_number} {street}\"\n"
   ],
   "id": "3cba266e7fe695cc",
   "outputs": [],
   "execution_count": 7
  },
  {
   "metadata": {
    "ExecuteTime": {
     "end_time": "2025-10-15T10:17:19.243870Z",
     "start_time": "2025-10-15T10:17:19.236682Z"
    }
   },
   "cell_type": "code",
   "source": [
    "print(format_address(23, \"Ajelogo Street\"))  # 23 Ajelogo Street\n",
    "print(format_address(\"23B\", \"Ajelogo Street\"))  # 23B Ajelogo Street\n"
   ],
   "id": "5c42435a9ff02691",
   "outputs": [
    {
     "name": "stdout",
     "output_type": "stream",
     "text": [
      "23 Ajelogo Street\n",
      "23B Ajelogo Street\n"
     ]
    }
   ],
   "execution_count": 8
  },
  {
   "metadata": {
    "ExecuteTime": {
     "end_time": "2025-10-15T10:19:43.506632Z",
     "start_time": "2025-10-15T10:19:43.495540Z"
    }
   },
   "cell_type": "code",
   "source": [
    "def find_user(username: str) -> Optional[dict]:\n",
    "    if username == \"admin\":\n",
    "        return {\"username\": \"admin\", \"role\": \"superuser\"}\n",
    "    return None\n"
   ],
   "id": "1fce970009a0aa33",
   "outputs": [],
   "execution_count": 9
  },
  {
   "metadata": {
    "ExecuteTime": {
     "end_time": "2025-10-15T10:19:58.205868Z",
     "start_time": "2025-10-15T10:19:58.200780Z"
    }
   },
   "cell_type": "code",
   "source": "find_user(\"admin\")",
   "id": "a2dc24c8df7d3a0e",
   "outputs": [
    {
     "data": {
      "text/plain": [
       "{'username': 'admin', 'role': 'superuser'}"
      ]
     },
     "execution_count": 12,
     "metadata": {},
     "output_type": "execute_result"
    }
   ],
   "execution_count": 12
  },
  {
   "metadata": {
    "ExecuteTime": {
     "end_time": "2025-10-15T10:27:07.674936Z",
     "start_time": "2025-10-15T10:27:07.669737Z"
    }
   },
   "cell_type": "code",
   "source": [
    "from typing import Dict\n",
    "\n",
    "fellow_scores: Dict[str, int] = {\n",
    "    \"David\": 89,\n",
    "    \"Micheal\": 'asd',\n",
    "    23: 'string'\n",
    "}"
   ],
   "id": "52d844078f81891b",
   "outputs": [],
   "execution_count": 21
  },
  {
   "metadata": {
    "ExecuteTime": {
     "end_time": "2025-10-15T10:27:21.504947Z",
     "start_time": "2025-10-15T10:27:21.500760Z"
    }
   },
   "cell_type": "code",
   "source": [
    "from typing import Tuple\n",
    "\n",
    "fellow: Tuple[str, int, str] = (\"Perpetual\",12,\"AI Engineering\")"
   ],
   "id": "5895ae198876cf0e",
   "outputs": [],
   "execution_count": 23
  },
  {
   "metadata": {
    "ExecuteTime": {
     "end_time": "2025-10-15T10:27:28.698519Z",
     "start_time": "2025-10-15T10:27:28.690502Z"
    }
   },
   "cell_type": "code",
   "source": [
    "def ai_fellow(fellow: Tuple[str, int]) -> str:\n",
    "    name, score = fellow\n",
    "    return f\"{name} scored {score} in the last exam.\""
   ],
   "id": "f5fce4ab3390f2c0",
   "outputs": [],
   "execution_count": 24
  },
  {
   "metadata": {
    "ExecuteTime": {
     "end_time": "2025-10-15T11:33:50.708977Z",
     "start_time": "2025-10-15T11:33:48.695929Z"
    }
   },
   "cell_type": "code",
   "source": "from pydantic import BaseModel",
   "id": "88b335cadd250b9d",
   "outputs": [],
   "execution_count": 25
  },
  {
   "metadata": {
    "ExecuteTime": {
     "end_time": "2025-10-15T11:35:37.665728Z",
     "start_time": "2025-10-15T11:35:37.655415Z"
    }
   },
   "cell_type": "code",
   "source": [
    "class Fellow(BaseModel):\n",
    "    name: str\n",
    "    score: int\n",
    "    track: str\n"
   ],
   "id": "3c3b255fa7d2b52b",
   "outputs": [],
   "execution_count": 27
  },
  {
   "metadata": {
    "ExecuteTime": {
     "end_time": "2025-10-15T11:35:41.977895Z",
     "start_time": "2025-10-15T11:35:41.968732Z"
    }
   },
   "cell_type": "code",
   "source": [
    "# 1. Validation - It autmatically validates data passed to it\n",
    "\n",
    "Fellow(name=\"Perpetual\", score=88, track=\"AI Engineering\") # This will work fine"
   ],
   "id": "aa90bb654beca22d",
   "outputs": [
    {
     "data": {
      "text/plain": [
       "Fellow(name='Perpetual', score=88, track='AI Engineering')"
      ]
     },
     "execution_count": 28,
     "metadata": {},
     "output_type": "execute_result"
    }
   ],
   "execution_count": 28
  },
  {
   "metadata": {
    "ExecuteTime": {
     "end_time": "2025-10-15T11:35:51.327299Z",
     "start_time": "2025-10-15T11:35:50.252393Z"
    }
   },
   "cell_type": "code",
   "source": "Fellow(name= \"Zach\", score = \"eighty-seven\", track=\"AI Engineering\") # This will raise error\n",
   "id": "143db3723e8bd577",
   "outputs": [
    {
     "ename": "ValidationError",
     "evalue": "1 validation error for Fellow\nscore\n  Input should be a valid integer, unable to parse string as an integer [type=int_parsing, input_value='eighty-seven', input_type=str]\n    For further information visit https://errors.pydantic.dev/2.12/v/int_parsing",
     "output_type": "error",
     "traceback": [
      "\u001B[31m---------------------------------------------------------------------------\u001B[39m",
      "\u001B[31mValidationError\u001B[39m                           Traceback (most recent call last)",
      "\u001B[36mCell\u001B[39m\u001B[36m \u001B[39m\u001B[32mIn[29]\u001B[39m\u001B[32m, line 1\u001B[39m\n\u001B[32m----> \u001B[39m\u001B[32m1\u001B[39m \u001B[43mFellow\u001B[49m\u001B[43m(\u001B[49m\u001B[43mname\u001B[49m\u001B[43m=\u001B[49m\u001B[43m \u001B[49m\u001B[33;43m\"\u001B[39;49m\u001B[33;43mZach\u001B[39;49m\u001B[33;43m\"\u001B[39;49m\u001B[43m,\u001B[49m\u001B[43m \u001B[49m\u001B[43mscore\u001B[49m\u001B[43m \u001B[49m\u001B[43m=\u001B[49m\u001B[43m \u001B[49m\u001B[33;43m\"\u001B[39;49m\u001B[33;43meighty-seven\u001B[39;49m\u001B[33;43m\"\u001B[39;49m\u001B[43m,\u001B[49m\u001B[43m \u001B[49m\u001B[43mtrack\u001B[49m\u001B[43m=\u001B[49m\u001B[33;43m\"\u001B[39;49m\u001B[33;43mAI Engineering\u001B[39;49m\u001B[33;43m\"\u001B[39;49m\u001B[43m)\u001B[49m \u001B[38;5;66;03m# This will raise error\u001B[39;00m\n",
      "\u001B[36mFile \u001B[39m\u001B[32m~\\PycharmProjects\\GEN-AI\\.venv\\Lib\\site-packages\\pydantic\\main.py:250\u001B[39m, in \u001B[36mBaseModel.__init__\u001B[39m\u001B[34m(self, **data)\u001B[39m\n\u001B[32m    248\u001B[39m \u001B[38;5;66;03m# `__tracebackhide__` tells pytest and some other tools to omit this function from tracebacks\u001B[39;00m\n\u001B[32m    249\u001B[39m __tracebackhide__ = \u001B[38;5;28;01mTrue\u001B[39;00m\n\u001B[32m--> \u001B[39m\u001B[32m250\u001B[39m validated_self = \u001B[38;5;28;43mself\u001B[39;49m\u001B[43m.\u001B[49m\u001B[43m__pydantic_validator__\u001B[49m\u001B[43m.\u001B[49m\u001B[43mvalidate_python\u001B[49m\u001B[43m(\u001B[49m\u001B[43mdata\u001B[49m\u001B[43m,\u001B[49m\u001B[43m \u001B[49m\u001B[43mself_instance\u001B[49m\u001B[43m=\u001B[49m\u001B[38;5;28;43mself\u001B[39;49m\u001B[43m)\u001B[49m\n\u001B[32m    251\u001B[39m \u001B[38;5;28;01mif\u001B[39;00m \u001B[38;5;28mself\u001B[39m \u001B[38;5;129;01mis\u001B[39;00m \u001B[38;5;129;01mnot\u001B[39;00m validated_self:\n\u001B[32m    252\u001B[39m     warnings.warn(\n\u001B[32m    253\u001B[39m         \u001B[33m'\u001B[39m\u001B[33mA custom validator is returning a value other than `self`.\u001B[39m\u001B[38;5;130;01m\\n\u001B[39;00m\u001B[33m'\u001B[39m\n\u001B[32m    254\u001B[39m         \u001B[33m\"\u001B[39m\u001B[33mReturning anything other than `self` from a top level model validator isn\u001B[39m\u001B[33m'\u001B[39m\u001B[33mt supported when validating via `__init__`.\u001B[39m\u001B[38;5;130;01m\\n\u001B[39;00m\u001B[33m\"\u001B[39m\n\u001B[32m    255\u001B[39m         \u001B[33m'\u001B[39m\u001B[33mSee the `model_validator` docs (https://docs.pydantic.dev/latest/concepts/validators/#model-validators) for more details.\u001B[39m\u001B[33m'\u001B[39m,\n\u001B[32m    256\u001B[39m         stacklevel=\u001B[32m2\u001B[39m,\n\u001B[32m    257\u001B[39m     )\n",
      "\u001B[31mValidationError\u001B[39m: 1 validation error for Fellow\nscore\n  Input should be a valid integer, unable to parse string as an integer [type=int_parsing, input_value='eighty-seven', input_type=str]\n    For further information visit https://errors.pydantic.dev/2.12/v/int_parsing"
     ]
    }
   ],
   "execution_count": 29
  },
  {
   "metadata": {
    "ExecuteTime": {
     "end_time": "2025-10-15T11:41:31.463263Z",
     "start_time": "2025-10-15T11:41:31.459786Z"
    }
   },
   "cell_type": "code",
   "source": [
    "#2. parsing and type conversion - It automatically converts compatilbe types\n",
    "# It reads and interprete data\n",
    "\n",
    "p = Fellow(name = \"Perpetual\", score = \"88\", track = \"AI Engineering\")\n",
    "print(type(p.score))"
   ],
   "id": "71155ae87f2fddc5",
   "outputs": [
    {
     "name": "stdout",
     "output_type": "stream",
     "text": [
      "<class 'int'>\n"
     ]
    }
   ],
   "execution_count": 31
  },
  {
   "metadata": {
    "ExecuteTime": {
     "end_time": "2025-10-15T11:44:52.426897Z",
     "start_time": "2025-10-15T11:44:52.419443Z"
    }
   },
   "cell_type": "code",
   "source": [
    "\n",
    "# an incomming data\n",
    "data= {\"name\":\"Blessing\", \"score\": \"100\", \"track\":\"AI Engineering \"}\n",
    "\n",
    "# pydantic will parse it like this\n",
    "fellow =Fellow(**data)\n",
    "\n",
    "print(fellow)\n",
    "print(type(fellow.score))"
   ],
   "id": "1539aeffcf564e23",
   "outputs": [
    {
     "name": "stdout",
     "output_type": "stream",
     "text": [
      "name='Blessing' score=100 track='AI Engineering '\n",
      "<class 'int'>\n"
     ]
    }
   ],
   "execution_count": 32
  },
  {
   "metadata": {
    "ExecuteTime": {
     "end_time": "2025-10-15T11:50:09.826015Z",
     "start_time": "2025-10-15T11:50:09.821165Z"
    }
   },
   "cell_type": "code",
   "source": [
    "# 3. Serailization - It automatically converts data to JSON or dictioanry(converts to a format that can be stored or sent)\n",
    "# Its more like packaging a data for output\n",
    "print(p.model_dump_json())"
   ],
   "id": "77a1f6535099f249",
   "outputs": [
    {
     "name": "stdout",
     "output_type": "stream",
     "text": [
      "{\"name\":\"Perpetual\",\"score\":88,\"track\":\"AI Engineering\"}\n"
     ]
    }
   ],
   "execution_count": 34
  },
  {
   "metadata": {
    "ExecuteTime": {
     "end_time": "2025-10-15T11:50:59.621554Z",
     "start_time": "2025-10-15T11:50:59.611547Z"
    }
   },
   "cell_type": "code",
   "source": "print(p.model_dump())",
   "id": "3e03b06797d18b8e",
   "outputs": [
    {
     "name": "stdout",
     "output_type": "stream",
     "text": [
      "{'name': 'Perpetual', 'score': 88, 'track': 'AI Engineering'}\n"
     ]
    }
   ],
   "execution_count": 37
  },
  {
   "metadata": {
    "ExecuteTime": {
     "end_time": "2025-10-15T11:51:11.756184Z",
     "start_time": "2025-10-15T11:51:11.731737Z"
    }
   },
   "cell_type": "code",
   "source": [
    "# 4. Nesting  - Models can be nested to create complex data structures\n",
    "\n",
    "\n",
    "class Address(BaseModel):\n",
    "    street: str\n",
    "    city: str\n",
    "    state: str\n",
    "    country: str\n",
    "\n",
    "class Fellow(BaseModel):\n",
    "    name: str\n",
    "    score: int\n",
    "    track: str\n",
    "    address: Address\n",
    "\n",
    "# Pydantic will validate thhis automatically"
   ],
   "id": "77d4fee0a21130a3",
   "outputs": [],
   "execution_count": 38
  },
  {
   "metadata": {
    "ExecuteTime": {
     "end_time": "2025-10-15T11:52:58.856010Z",
     "start_time": "2025-10-15T11:52:58.850526Z"
    }
   },
   "cell_type": "code",
   "source": [
    "# lets pass this data\n",
    "data = {\n",
    "    \"name\": \"Perpetual\",\n",
    "    \"score\": 88,\n",
    "    \"track\": \"AI Engineering\",\n",
    "\n",
    "    \"address\": {\n",
    "        \"street\": \"Ajelogo Street\",\n",
    "        \"city\": \"Ketu\",\n",
    "        \"state\": \"Lagos\",\n",
    "        \"country\": \"Nigeria\"\n",
    "    }\n",
    "}\n",
    "\n",
    "# pydantic will parse it like this\n",
    "fellow = Fellow(**data)\n",
    "\n",
    "print(fellow)"
   ],
   "id": "ab8d1ce67d027f6c",
   "outputs": [
    {
     "name": "stdout",
     "output_type": "stream",
     "text": [
      "name='Perpetual' score=88 track='AI Engineering' address=Address(street='Ajelogo Street', city='Ketu', state='Lagos', country='Nigeria')\n"
     ]
    }
   ],
   "execution_count": 39
  }
 ],
 "metadata": {
  "kernelspec": {
   "display_name": "Python 3",
   "language": "python",
   "name": "python3"
  },
  "language_info": {
   "codemirror_mode": {
    "name": "ipython",
    "version": 2
   },
   "file_extension": ".py",
   "mimetype": "text/x-python",
   "name": "python",
   "nbconvert_exporter": "python",
   "pygments_lexer": "ipython2",
   "version": "2.7.6"
  }
 },
 "nbformat": 4,
 "nbformat_minor": 5
}
