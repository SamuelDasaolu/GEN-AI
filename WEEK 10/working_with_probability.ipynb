{
 "cells": [
  {
   "cell_type": "code",
   "id": "initial_id",
   "metadata": {
    "collapsed": true,
    "ExecuteTime": {
     "end_time": "2025-10-02T12:38:24.336426Z",
     "start_time": "2025-10-02T12:38:24.114072Z"
    }
   },
   "source": [
    "from zipfile import ZipFile\n",
    "from functools import reduce\n",
    "import matplotlib.pyplot as plt\n",
    "import pandas as pd\n",
    "from scipy import stats\n",
    "from pathlib import Path"
   ],
   "outputs": [],
   "execution_count": 13
  },
  {
   "metadata": {
    "ExecuteTime": {
     "end_time": "2025-10-02T12:38:24.383741Z",
     "start_time": "2025-10-02T12:38:24.364454Z"
    }
   },
   "cell_type": "code",
   "source": [
    "download_directory_path = Path(r\"C:\\Users\\ncc\\Downloads\\archive.zip\")\n",
    "\n",
    "extracted_file = \"data_files\""
   ],
   "id": "e853a8de24cb167c",
   "outputs": [],
   "execution_count": 14
  },
  {
   "metadata": {
    "ExecuteTime": {
     "end_time": "2025-10-02T12:38:25.175248Z",
     "start_time": "2025-10-02T12:38:24.393433Z"
    }
   },
   "cell_type": "code",
   "source": [
    "with ZipFile(download_directory_path) as zip:\n",
    "    zip.extractall(\"data_files\")"
   ],
   "id": "830ee1a3aac0f8d1",
   "outputs": [],
   "execution_count": 15
  },
  {
   "metadata": {
    "ExecuteTime": {
     "end_time": "2025-10-02T12:38:25.207499Z",
     "start_time": "2025-10-02T12:38:25.185410Z"
    }
   },
   "cell_type": "code",
   "source": [
    "data_frames = {\n",
    "\n",
    "}\n",
    "\n",
    "for file in download_directory_path.glob(\"*.csv\"):\n",
    "    data_frames[file.name] = pd.read_csv(file)\n"
   ],
   "id": "a79509b3a9f7f2cb",
   "outputs": [],
   "execution_count": 16
  }
 ],
 "metadata": {
  "kernelspec": {
   "display_name": "Python 3",
   "language": "python",
   "name": "python3"
  },
  "language_info": {
   "codemirror_mode": {
    "name": "ipython",
    "version": 2
   },
   "file_extension": ".py",
   "mimetype": "text/x-python",
   "name": "python",
   "nbconvert_exporter": "python",
   "pygments_lexer": "ipython2",
   "version": "2.7.6"
  }
 },
 "nbformat": 4,
 "nbformat_minor": 5
}
