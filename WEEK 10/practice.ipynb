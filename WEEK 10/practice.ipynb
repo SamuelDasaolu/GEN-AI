{
 "cells": [
  {
   "metadata": {
    "ExecuteTime": {
     "end_time": "2025-10-09T12:22:53.786776Z",
     "start_time": "2025-10-09T12:22:53.570052Z"
    }
   },
   "cell_type": "code",
   "source": "import numpy as np",
   "id": "71c55db6599bb6b4",
   "outputs": [],
   "execution_count": 2
  },
  {
   "metadata": {
    "ExecuteTime": {
     "end_time": "2025-10-09T09:24:56.475183Z",
     "start_time": "2025-10-09T09:24:56.464693Z"
    }
   },
   "cell_type": "code",
   "source": [
    "a = np.array([2, 4, 6])\n",
    "b = np.array([1, 2, 3])\n",
    "print(a * b + 2)"
   ],
   "id": "45cf2c8bbe5f9c7f",
   "outputs": [
    {
     "data": {
      "text/plain": [
       "array([ 4, 10, 20])"
      ]
     },
     "execution_count": 2,
     "metadata": {},
     "output_type": "execute_result"
    }
   ],
   "execution_count": 2
  },
  {
   "metadata": {
    "ExecuteTime": {
     "end_time": "2025-10-09T12:22:54.591271Z",
     "start_time": "2025-10-09T12:22:54.580549Z"
    }
   },
   "cell_type": "code",
   "source": [
    "A = np.array([[1, 2],\n",
    "              [3, 4]])\n",
    "B = np.array([[2, 0],\n",
    "              [1, 2]])\n",
    "A@B"
   ],
   "id": "361dbeacd35890d",
   "outputs": [
    {
     "data": {
      "text/plain": [
       "array([[ 4,  4],\n",
       "       [10,  8]])"
      ]
     },
     "execution_count": 3,
     "metadata": {},
     "output_type": "execute_result"
    }
   ],
   "execution_count": 3
  }
 ],
 "metadata": {
  "kernelspec": {
   "display_name": "Python 3",
   "language": "python",
   "name": "python3"
  },
  "language_info": {
   "codemirror_mode": {
    "name": "ipython",
    "version": 2
   },
   "file_extension": ".py",
   "mimetype": "text/x-python",
   "name": "python",
   "nbconvert_exporter": "python",
   "pygments_lexer": "ipython2",
   "version": "2.7.6"
  }
 },
 "nbformat": 4,
 "nbformat_minor": 5
}
