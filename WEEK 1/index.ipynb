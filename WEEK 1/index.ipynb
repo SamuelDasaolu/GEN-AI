{
 "cells": [
  {
   "cell_type": "markdown",
   "id": "0b945dae",
   "metadata": {},
   "source": [
    "print('hello World')"
   ]
  },
  {
   "cell_type": "code",
   "execution_count": null,
   "id": "a1cefde8",
   "metadata": {
    "vscode": {
     "languageId": "plaintext"
    }
   },
   "outputs": [],
   "source": [
    "print('Hello World')"
   ]
  }
 ],
 "metadata": {
  "language_info": {
   "name": "python"
  }
 },
 "nbformat": 4,
 "nbformat_minor": 5
}
