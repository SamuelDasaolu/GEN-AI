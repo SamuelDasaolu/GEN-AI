{
 "cells": [
  {
   "cell_type": "markdown",
   "id": "b118d914",
   "metadata": {},
   "source": [
    "## 1) Initial matrix\n",
    "$scores = \\begin{bmatrix} 80 & 70 & 90 \\\\ 60 & 85 & 75 \\\\ 95 & 88 & 92 \\\\ 70 & 60 & 65 \\end{bmatrix}$\n"
   ]
  },
  {
   "cell_type": "markdown",
   "id": "49f989fb",
   "metadata": {},
   "source": [
    "## 2) Sum of rows (total score per student)\n",
    "\n",
    "\n",
    "- Student 1: 80 + 70 + 90 = 240  \n",
    "- Student 2: 60 + 85 + 75 = 220  \n",
    "- Student 3: 95 + 88 + 92 = 275  \n",
    "- Student 4: 70 + 60 + 65 = 195\n",
    "\n",
    "So the row sums are: `[240, 220, 275, 195]`"
   ]
  },
  {
   "cell_type": "markdown",
   "id": "6610648c",
   "metadata": {},
   "source": [
    "## 3) Apply weight to the Maths column (multiply first column by 2)\n",
    "\n",
    "- Student 1: Maths 80 * 2 -> 160. New row: `[160, 70, 90]`  \n",
    "- Student 2: Maths 60 * 2 -> 120. New row: `[120, 85, 75]`  \n",
    "- Student 3: Maths 95 * 2 -> 190. New row: `[190, 88, 92]`  \n",
    "- Student 4: Maths 70 * 2 -> 140. New row: `[140, 60, 65]`\n",
    "\n",
    "New Matrix is: `[[160, 70, 90], [120, 85, 75], [190, 88, 92], [140, 60, 65]]`"
   ]
  },
  {
   "cell_type": "markdown",
   "id": "ef743294",
   "metadata": {},
   "source": [
    "## 4) Average score per subject (column-wise mean)\n",
    "\n",
    "\n",
    "- Maths mean = (160 + 120 + 190 + 140) / 4 = 610 / 4 = 152.5  \n",
    "- English mean = (70 + 85 + 88 + 60) / 4 = 303 / 4 = 75.75  \n",
    "- Science mean = (90 + 75 + 92 + 65) / 4 = 322 / 4 = 80.5\n",
    "\n",
    "So the column-wise means are: `[152.5, 75.75, 80.5]`"
   ]
  },
  {
   "cell_type": "markdown",
   "id": "1d988d8e",
   "metadata": {},
   "source": [
    "## 5) Final grades using matrix multiplication (weighted sum)\n",
    "\n",
    "weight vector: `weight_vector = [0.5, 0.3, 0.2]`.\n",
    "\n",
    "- Student 1: `160*0.5 + 70*0.3 + 90*0.2 = 80 + 21 + 18 = 119`  \n",
    "- Student 2: `120*0.5 + 85*0.3 + 75*0.2 = 60 + 25.5 + 15 = 100.5`  \n",
    "- Student 3: `190*0.5 + 88*0.3 + 92*0.2 = 95 + 26.4 + 18.4 = 139.8`  \n",
    "- Student 4: `140*0.5 + 60*0.3 + 65*0.2 = 70 + 18 + 13 = 101`\n",
    "\n",
    "So the final scores are: `[119.0, 100.5, 139.8, 101.0]`"
   ]
  },
  {
   "cell_type": "markdown",
   "id": "ccc0eeee",
   "metadata": {},
   "source": [
    "## 6) Comparing students (consecutive differences by column)\n",
    "\n",
    "We compute differences between consecutive students (row-wise differences).\n",
    "\n",
    "Manually:\n",
    "- Student2 - Student1 = `[120-160, 85-70, 75-90]` = `[-40, 15, -15]`  \n",
    "- Student3 - Student2 = `[190-120, 88-85, 92-75]` = `[70, 3, 17]`  \n",
    "- Student4 - Student3 = `[140-190, 60-88, 65-92]` = `[-50, -28, -27]`\n",
    "\n",
    "So the differences matrix is:\n",
    "`[[-40, 15, -15],\n",
    "  [70, 3, 17],\n",
    "  [-50, -28, -27]]`"
   ]
  },
  {
   "cell_type": "markdown",
   "id": "f77357c8",
   "metadata": {},
   "source": [
    "\n",
    "## Verification With Numpy "
   ]
  },
  {
   "cell_type": "code",
   "execution_count": 25,
   "id": "dbdea63f",
   "metadata": {},
   "outputs": [
    {
     "name": "stdout",
     "output_type": "stream",
     "text": [
      "Initial Scores Matrix \n",
      "[[80 70 90]\n",
      " [60 85 75]\n",
      " [95 88 92]\n",
      " [70 60 65]]\n",
      "\n",
      "Sum by row = \n",
      "[240 220 275 195]\n",
      "\n",
      "Score for Student 1 = 240\n",
      "Score for Student 2 = 220\n",
      "Score for Student 3 = 275\n",
      "Score for Student 4 = 195\n",
      "\n",
      " After Applying x2 to Maths : \n",
      "[[160  70  90]\n",
      " [120  85  75]\n",
      " [190  88  92]\n",
      " [140  60  65]]\n",
      "\n",
      " Average Score per Subject: \n",
      "[152.5   75.75  80.5 ]\n",
      "\n",
      " Final Scores After Matrix Multiplication: \n",
      "[119.  100.5 139.8 101. ]\n",
      "\n",
      "Comparing Student Scores(By Column): \n",
      "[[-40  15 -15]\n",
      " [ 70   3  17]\n",
      " [-50 -28 -27]]\n"
     ]
    }
   ],
   "source": [
    "import numpy as np\n",
    "scores = np.array([[80, 70, 90], [60, 85, 75], [95, 88, 92], [70, 60, 65]])\n",
    "print(f\"Initial Scores Matrix \\n{scores}\")\n",
    "\n",
    "# Sum of Rows\n",
    "answer3_2 = np.sum(scores, axis=1)\n",
    "i = 1\n",
    "print(f\"\\nSum by row = \\n{answer3_2}\\n\")\n",
    "for score in answer3_2:\n",
    "    print(f\"Score for Student {i} = {score}\")\n",
    "    i+=1\n",
    "\n",
    "\n",
    "# Weight applied to Maths Column\n",
    "copy = scores.copy()\n",
    "copy[:, 0] = 2 * copy[:, 0]\n",
    "print(f\"\\n After Applying x2 to Maths : \\n{copy}\")\n",
    "\n",
    "# Average Score per subject = Column wise Mean\n",
    "answer3_4 = np.mean(copy, axis=0)\n",
    "print(f\"\\n Average Score per Subject: \\n{answer3_4}\")\n",
    "\n",
    "# Final Grades Using Matrix Multiplication\n",
    "weight_vector = np.array([0.5, 0.3, 0.2])\n",
    "answer3_5 = np.dot(copy, weight_vector)\n",
    "print(f\"\\n Final Scores After Matrix Multiplication: \\n{answer3_5}\")\n",
    "\n",
    "# Comparing Students (Vector Subtraction)\n",
    "answer3_6 = np.diff(copy, axis=0)\n",
    "print(f\"\\nComparing Student Scores(By Column): \\n{answer3_6}\")\n",
    "\n",
    "\n"
   ]
  },
  {
   "cell_type": "markdown",
   "id": "07ed05f0",
   "metadata": {},
   "source": [
    "# \n",
    "# \n",
    "#\n",
    "#\n",
    "#"
   ]
  },
  {
   "cell_type": "markdown",
   "id": "0e192744",
   "metadata": {},
   "source": [
    "# 5. Add -On Excercises"
   ]
  },
  {
   "cell_type": "markdown",
   "id": "e272ceb8",
   "metadata": {},
   "source": [
    "\n",
    "\n",
    "$scores\\_matrix = \\begin{bmatrix} 80 & 70 & 90 & 80 \\\\ 60 & 85 & 75 & 95 \\\\ 95 & 88 & 92 & 70 \\\\ 70 & 60 & 65 &85 \\\\ 90 & 40 & 75 & 65 \\end{bmatrix}$\n",
    "\n",
    "Student &emsp;    Math &emsp;      English &emsp;     Science &emsp;     Computer\n",
    "\n",
    "student1\n",
    "\n",
    "student2\n",
    "\n",
    "student3\n",
    "\n",
    "student4\n",
    "\n",
    "student5\n",
    "\n"
   ]
  },
  {
   "cell_type": "code",
   "execution_count": 26,
   "id": "89571bee",
   "metadata": {},
   "outputs": [
    {
     "name": "stdout",
     "output_type": "stream",
     "text": [
      "Initial Scores Matrix \n",
      " [[80 70 90 80]\n",
      " [60 85 75 95]\n",
      " [95 88 92 70]\n",
      " [70 60 65 85]\n",
      " [90 40 75 65]]\n"
     ]
    }
   ],
   "source": [
    "scores_matrix = np.array([[80, 70, 90, 80], \n",
    "                          [60, 85, 75, 95], \n",
    "                          [95, 88, 92, 70], \n",
    "                          [70, 60, 65, 85], \n",
    "                          [90, 40, 75, 65]])\n",
    "\n",
    "print(\"Initial Scores Matrix \\n\", scores_matrix)\n"
   ]
  },
  {
   "cell_type": "markdown",
   "id": "7e0242d1",
   "metadata": {},
   "source": [
    "## 1. Each Student's Total Score and Average Per Subect"
   ]
  },
  {
   "cell_type": "markdown",
   "id": "406235a1",
   "metadata": {},
   "source": [
    "#### a) Total scores per student (row sums)\n",
    "\n",
    "- Student 1: 80 + 70 + 90 + 80 = 320  \n",
    "- Student 2: 60 + 85 + 75 + 95 = 315  \n",
    "- Student 3: 95 + 88 + 92 + 70 = 345  \n",
    "- Student 4: 70 + 60 + 65 + 85 = 280  \n",
    "- Student 5: 90 + 40 + 75 + 65 = 270  \n",
    "\n",
    "So totals = `[320, 315, 345, 280, 270]`\n"
   ]
  },
  {
   "cell_type": "markdown",
   "id": "dde3b70e",
   "metadata": {},
   "source": [
    "#### b) Average score per subject (column-wise mean)\n",
    "\n",
    "\n",
    "- Maths average = (80+60+95+70+90)/5 = 79  \n",
    "- English average = (70+85+88+60+40)/5 = 68.6  \n",
    "- Science average = (90+75+92+65+75)/5 = 79.4  \n",
    "- Computer average = (80+95+70+85+65)/5 = 79  \n",
    "\n",
    "So averages = `[79, 68.6, 79.4, 79]`\n"
   ]
  },
  {
   "cell_type": "code",
   "execution_count": 27,
   "id": "b23300d4",
   "metadata": {},
   "outputs": [
    {
     "name": "stdout",
     "output_type": "stream",
     "text": [
      "\n",
      "Sum by row = \n",
      "[320 315 345 280 270]\n",
      "\n",
      "Total Score for Student 1 = 320\n",
      "Total Score for Student 2 = 315\n",
      "Total Score for Student 3 = 345\n",
      "Total Score for Student 4 = 280\n",
      "Total Score for Student 5 = 270\n",
      "\n",
      " Average Score per Subject: \n",
      "[79.  68.6 79.4 79. ]\n",
      "Average Score for Mathematics = 79.0\n",
      "Average Score for English = 68.6\n",
      "Average Score for Science = 79.4\n",
      "Average Score for Computer = 79.0\n"
     ]
    }
   ],
   "source": [
    "total_scores_per_student = np.sum(scores_matrix, axis=1)\n",
    "print(f\"\\nSum by row = \\n{total_scores_per_student}\\n\")\n",
    "\n",
    "i = 1\n",
    "for score in total_scores_per_student:\n",
    "    print(f\"Total Score for Student {i} = {score}\")\n",
    "    i+=1\n",
    "    \n",
    "# Average Score per subject = Column wise Mean\n",
    "average_per_subject = np.mean(scores_matrix, axis=0)\n",
    "print(f\"\\n Average Score per Subject: \\n{average_per_subject}\")\n",
    "print(f\"Average Score for Mathematics = {average_per_subject[0]}\")\n",
    "print(f\"Average Score for English = {average_per_subject[1]}\")\n",
    "print(f\"Average Score for Science = {average_per_subject[2]}\")\n",
    "print(f\"Average Score for Computer = {average_per_subject[3]}\")\n"
   ]
  },
  {
   "cell_type": "markdown",
   "id": "693919f4",
   "metadata": {},
   "source": [
    "## 2. Apply Weight of 3x to Science and recompute totals\n",
    "\n",
    "i.e. $scores\\_matrix [2]\\times 3$"
   ]
  },
  {
   "cell_type": "markdown",
   "id": "a49eb9b1",
   "metadata": {},
   "source": [
    " \n",
    "- Student 1: 80 + 70 + 270 + 80 = 500  \n",
    "- Student 2: 60 + 85 + 225 + 95 = 465  \n",
    "- Student 3: 95 + 88 + 276 + 70 = 529  \n",
    "- Student 4: 70 + 60 + 195 + 85 = 410  \n",
    "- Student 5: 90 + 40 + 225 + 65 = 420  \n",
    "\n",
    "So new totals = `[500, 465, 529, 410, 420]`\n"
   ]
  },
  {
   "cell_type": "code",
   "execution_count": 28,
   "id": "1136bc60",
   "metadata": {},
   "outputs": [
    {
     "name": "stdout",
     "output_type": "stream",
     "text": [
      "\n",
      " Matrix after 3 * Science Column: \n",
      " [[ 80  70 270  80]\n",
      " [ 60  85 225  95]\n",
      " [ 95  88 276  70]\n",
      " [ 70  60 195  85]\n",
      " [ 90  40 225  65]]\n",
      "\n",
      "Sum by row = \n",
      "[500 465 529 410 420]\n",
      "\n",
      "New Total Score for Student 1 = 500\n",
      "New Total Score for Student 2 = 465\n",
      "New Total Score for Student 3 = 529\n",
      "New Total Score for Student 4 = 410\n",
      "New Total Score for Student 5 = 420\n"
     ]
    }
   ],
   "source": [
    "scores_copy = scores_matrix.copy()\n",
    "# Apply 3x to Science Column\n",
    "scores_copy[:, 2] = 3 * scores_copy[:, 2]\n",
    "print(\"\\n Matrix after 3 * Science Column: \\n\", scores_copy)\n",
    "#Recompute Totals Per Student\n",
    "new_total_scores_per_student = np.sum(scores_copy, axis=1)\n",
    "print(f\"\\nSum by row = \\n{new_total_scores_per_student}\\n\")\n",
    "\n",
    "i = 1\n",
    "for score in new_total_scores_per_student:\n",
    "    print(f\"New Total Score for Student {i} = {score}\")\n",
    "    i+=1\n"
   ]
  },
  {
   "cell_type": "markdown",
   "id": "7ab441d7",
   "metadata": {},
   "source": [
    "## 3. Define new weights for grading and Compute Final Grades\n",
    "e.g. $weights\\_vector\\ = [0.4, 0.2, 0.3, 0.1] $\n"
   ]
  },
  {
   "cell_type": "markdown",
   "id": "17519425",
   "metadata": {},
   "source": [
    "- Student 1: `80×0.4 + 70×0.2 + 270×0.3 + 80×0.1`\n",
    "  - = `32 + 14 + 81 + 8`  \n",
    "  - = `135`\n",
    "\n",
    "- Student 2: `60×0.4 + 85×0.2 + 225×0.3 + 95×0.1`  \n",
    "  - = `24 + 17 + 67.5 + 9.5`  \n",
    "  - = `118`\n",
    "\n",
    "- Student 3: `95×0.4 + 88×0.2 + 276×0.3 + 70×0.1`  \n",
    "  - = `38 + 17.6 + 82.8 + 7`  \n",
    "  - = `145.4`\n",
    "\n",
    "- Student 4: `70×0.4 + 60×0.2 + 195×0.3 + 85×0.1`  \n",
    "  - = `28 + 12 + 58.5 + 8.5`  \n",
    "  - = `107`\n",
    "\n",
    "- Student 5: `90×0.4 + 40×0.2 + 225×0.3 + 65×0.1`  \n",
    "  - = `36 + 8 + 67.5 + 6.5`  \n",
    "  - = **118**\n",
    "\n",
    "Final Results = `[135, 118, 145.4, 107, 118]`\n"
   ]
  },
  {
   "cell_type": "code",
   "execution_count": 29,
   "id": "b5ee5dca",
   "metadata": {},
   "outputs": [
    {
     "name": "stdout",
     "output_type": "stream",
     "text": [
      "\n",
      " Final Scores After Matrix Multiplication: \n",
      "[135.  118.  145.4 107.  118. ] \n",
      "\n",
      "Final Grade for Student 1: 135.0\n",
      "Final Grade for Student 2: 118.0\n",
      "Final Grade for Student 3: 145.4\n",
      "Final Grade for Student 4: 107.0\n",
      "Final Grade for Student 5: 118.0\n"
     ]
    }
   ],
   "source": [
    "# Final Grades Using Matrix Multiplication\n",
    "final_weight_vector = np.array([0.4, 0.2, 0.3, 0.1])\n",
    "final_grades = np.dot(scores_copy, final_weight_vector)\n",
    "print(f\"\\n Final Scores After Matrix Multiplication: \\n{final_grades} \\n\")\n",
    "\n",
    "i=1\n",
    "for score in final_grades:\n",
    "    print(f\"Final Grade for Student {i}: {score}\")\n",
    "    i+=1"
   ]
  },
  {
   "cell_type": "markdown",
   "id": "7b4b6193",
   "metadata": {},
   "source": [
    "## 4. Compare Student3 and Student4, who performed better?"
   ]
  },
  {
   "cell_type": "markdown",
   "id": "880f55d6",
   "metadata": {},
   "source": [
    "Matrix slice (rows 2–3, all columns):\n",
    "\n",
    "Student 3 = [95, 88, 92, 70]  \n",
    "Student 4 = [70, 60, 65, 85]\n",
    "\n",
    "Difference (Student4 – Student3):  \n",
    "= [70-95, 60-88, 65-92, 85-70]  \n",
    "= [-25, -28, -27, 15]\n",
    "\n",
    "Interpretation:  \n",
    "- Negative = Student 3 performed better.  \n",
    "- Positive = Student 4 performed better.\n",
    "\n",
    "So:  \n",
    "- Maths: Student 3 better by 25  \n",
    "- English: Student 3 better by 28  \n",
    "- Science: Student 3 better by 27  \n",
    "- Computer: Student 4 better by 15\n"
   ]
  },
  {
   "cell_type": "code",
   "execution_count": 30,
   "id": "1e01155b",
   "metadata": {},
   "outputs": [
    {
     "name": "stdout",
     "output_type": "stream",
     "text": [
      "Scores of Student 3 and 4 only: \n",
      " [[95 88 92 70]\n",
      " [70 60 65 85]]\n",
      "\n",
      "Comparing Student 3 and 4 Scores(By Subject): \n",
      "[[-25 -28 -27  15]]\n",
      "Student 3 performed better in Subject 1 by 25 marks\n",
      "Student 3 performed better in Subject 2 by 28 marks\n",
      "Student 3 performed better in Subject 3 by 27 marks\n",
      "Student 4 performed better in Subject 4 by 15 marks\n"
     ]
    }
   ],
   "source": [
    "student3_and_4 = scores_matrix[2:4, :]\n",
    "print(f\"Scores of Student 3 and 4 only: \\n {student3_and_4}\")\n",
    "diff_matrix = np.diff(student3_and_4, axis=0)\n",
    "print(f\"\\nComparing Student 3 and 4 Scores(By Subject): \\n{diff_matrix}\")\n",
    "\n",
    "i=0\n",
    "for diff in diff_matrix[0]:\n",
    "    if diff < 0:\n",
    "        print(f\"Student 3 performed better in Subject {i+1} by {abs(diff)} marks\")\n",
    "    else: \n",
    "        print(f\"Student 4 performed better in Subject {i+1} by {abs(diff)} marks\")\n",
    "        \n",
    "    i+=1"
   ]
  }
 ],
 "metadata": {
  "kernelspec": {
   "display_name": ".gen_ai",
   "language": "python",
   "name": "python3"
  },
  "language_info": {
   "codemirror_mode": {
    "name": "ipython",
    "version": 3
   },
   "file_extension": ".py",
   "mimetype": "text/x-python",
   "name": "python",
   "nbconvert_exporter": "python",
   "pygments_lexer": "ipython3",
   "version": "3.13.7"
  }
 },
 "nbformat": 4,
 "nbformat_minor": 5
}
