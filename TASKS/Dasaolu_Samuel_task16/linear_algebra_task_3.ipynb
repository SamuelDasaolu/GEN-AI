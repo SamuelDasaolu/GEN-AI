{
 "cells": [
  {
   "cell_type": "markdown",
   "id": "7e689e8e03f09fd4",
   "metadata": {},
   "source": [
    "# Matrix Operations: Class Task 3"
   ]
  },
  {
   "cell_type": "markdown",
   "id": "cd948c2e1e676cef",
   "metadata": {},
   "source": [
    "Let:\n",
    "\n",
    "A = [[2, -1],\n",
    "     [0,  3]]\n",
    "\n",
    "B = [[1, 4],\n",
    "     [-2, 5]]\n",
    "\n",
    "c = 2,  d = 3\n"
   ]
  },
  {
   "cell_type": "markdown",
   "id": "7e74006416a7c548",
   "metadata": {},
   "source": [
    "## (a) Compute cA, dB, and (c + d)A\n",
    "\n",
    "We do element-wise scalar multiplication.\n",
    "\n",
    "### Compute cA\n",
    "(c = 2)\n",
    "A = [[2, -1], [0, 3]]\n",
    "\n",
    "Multiply every entry of A by 2:\n",
    "- 2 * 2 = 4\n",
    "- 2 * (-1) = -2\n",
    "- 2 * 0 = 0\n",
    "- 2 * 3 = 6\n",
    "\n",
    "cA = [[4, -2],\n",
    "      [0,  6]]\n",
    "\n",
    "### Compute dB\n",
    "(d = 3)\n",
    "B = [[1, 4], [-2, 5]]\n",
    "\n",
    "Multiply every entry of B by 3:\n",
    "- 3 * 1 = 3\n",
    "- 3 * 4 = 12\n",
    "- 3 * (-2) = -6\n",
    "- 3 * 5 = 15\n",
    "\n",
    "dB = [[3, 12],\n",
    "      [-6, 15]]\n",
    "\n",
    "### Compute (c + d)A\n",
    "c + d = 2 + 3 = 5\n",
    "\n",
    "Multiply every entry of A by 5:\n",
    "- 5 * 2 = 10\n",
    "- 5 * (-1) = -5\n",
    "- 5 * 0 = 0\n",
    "- 5 * 3 = 15\n",
    "\n",
    "(c + d)A = [[10, -5],\n",
    "           [ 0, 15]]\n"
   ]
  },
  {
   "cell_type": "code",
   "execution_count": 1,
   "id": "aadda3cf9b58a927",
   "metadata": {
    "ExecuteTime": {
     "end_time": "2025-09-16T21:09:20.987783Z",
     "start_time": "2025-09-16T21:09:20.967082Z"
    }
   },
   "outputs": [
    {
     "name": "stdout",
     "output_type": "stream",
     "text": [
      "A = [[ 2 -1]\n",
      " [ 0  3]]\n",
      "B = [[ 1  4]\n",
      " [-2  5]]\n",
      "cA = [[ 4 -2]\n",
      " [ 0  6]]\n",
      "\n",
      "dB = [[ 3 12]\n",
      " [-6 15]]\n",
      "\n",
      "(c+d)A = [[10 -5]\n",
      " [ 0 15]]\n",
      "\n",
      "dA = [[ 6 -3]\n",
      " [ 0  9]]\n",
      "\n"
     ]
    }
   ],
   "source": [
    "import numpy as np\n",
    "\n",
    "\n",
    "A = np.array([[2, -1], [0, 3]])\n",
    "B = np.array([[1, 4], [-2, 5]])\n",
    "c = 2\n",
    "d = 3\n",
    "\n",
    "cA = c * A\n",
    "dB = d * B\n",
    "cdA = (c + d) * A\n",
    "# also compute dA (needed for the property check in (b))\n",
    "dA = d * A\n",
    "\n",
    "print('A =', A)\n",
    "print('B =', B)\n",
    "print(f'cA = {cA}\\n')\n",
    "print(f'dB = {dB}\\n')\n",
    "print(f'(c+d)A = {cdA}\\n')\n",
    "print(f'dA = {dA}\\n')"
   ]
  },
  {
   "cell_type": "markdown",
   "id": "996c9313bde003c6",
   "metadata": {},
   "source": [
    "## (b) Using the results, verify the scalar multiplication properties\n",
    "\n",
    "1. **Distributivity:** (c + d)A = cA + dA\n",
    "2. **Associativity:** c(dA) = (cd)A\n",
    "\n",
    "### 1) Check (c + d)A = cA + dA\n",
    "We computed earlier:\n",
    "(c + d)A = [[10, -5], [0, 15]]\n",
    "cA = [[4, -2], [0, 6]]\n",
    "dA = [[6, -3], [0, 9]]\n",
    "\n",
    "Add cA and dA:\n",
    "- 4 + 6 = 10\n",
    "- (-2) + (-3) = -5\n",
    "- 0 + 0 = 0\n",
    "- 6 + 9 = 15\n",
    "\n",
    "So cA + dA = [[10, -5], [0, 15]] which matches (c + d)A.\n",
    "##Distributivity Proved\n",
    "\n",
    "### 2) Check c(dA) = (cd)A\n",
    "dA = [[6, -3], [0, 9]]\n",
    "c(dA) = 2 * dA = [[12, -6], [0, 18]]\n",
    "cd = 2 * 3 = 6\n",
    "(cd)A = 6 * A = [[12, -6], [0, 18]]\n",
    "\n",
    "They match, so the scalar multiplication properties hold for these values.\n",
    "\n",
    "# PROVED"
   ]
  },
  {
   "cell_type": "code",
   "execution_count": 2,
   "id": "43453c20bd50bea9",
   "metadata": {
    "ExecuteTime": {
     "end_time": "2025-09-16T21:09:22.241717Z",
     "start_time": "2025-09-16T21:09:22.219549Z"
    }
   },
   "outputs": [
    {
     "name": "stdout",
     "output_type": "stream",
     "text": [
      " (c+d)A == cA + dA ? -> True\n",
      " c(dA) == (cd)A ? -> True\n",
      "\n",
      "lhs (c+d)A = [[10 -5]\n",
      " [ 0 15]]\n",
      "rhs cA + dA = [[10 -5]\n",
      " [ 0 15]]\n",
      "\n",
      " c(dA) = [[12 -6]\n",
      " [ 0 18]]\n",
      " (cd)A = [[12 -6]\n",
      " [ 0 18]]\n"
     ]
    }
   ],
   "source": [
    "# Quick NumPy verification for part (b)\n",
    "lhs = (c + d) * A\n",
    "rhs = c * A + d * A\n",
    "compat1 = np.array_equal(lhs, rhs)\n",
    "\n",
    "lhs2 = c * (d * A)\n",
    "rhs2 = (c * d) * A\n",
    "compat2 = np.array_equal(lhs2, rhs2)\n",
    "\n",
    "print(' (c+d)A == cA + dA ? ->', compat1)\n",
    "print(' c(dA) == (cd)A ? ->', compat2)\n",
    "print('\\nlhs (c+d)A =', lhs)\n",
    "print('rhs cA + dA =', rhs)\n",
    "print('\\n c(dA) =', lhs2)\n",
    "print(' (cd)A =', rhs2)"
   ]
  },
  {
   "cell_type": "markdown",
   "id": "d0a250cd44c3a690",
   "metadata": {},
   "source": [
    "## (c) Find the transpose of both matrices\n",
    "\n",
    "Transpose swaps rows and columns.\n",
    "If A = [[a, b], [c, d]]\n",
    "then A^T = [[a, c], [b, d]].\n",
    "\n",
    "A = [[2, -1], [0, 3]]  therefore A^T = [[2, 0], [-1, 3]]\n",
    "B = [[1, 4], [-2, 5]] therefore  B^T = [[1, -2], [4, 5]]\n"
   ]
  },
  {
   "cell_type": "code",
   "execution_count": 3,
   "id": "c76e2e8365e62fef",
   "metadata": {
    "ExecuteTime": {
     "end_time": "2025-09-16T21:15:44.366649Z",
     "start_time": "2025-09-16T21:15:44.356202Z"
    }
   },
   "outputs": [
    {
     "name": "stdout",
     "output_type": "stream",
     "text": [
      "A^T = [[ 2  0]\n",
      " [-1  3]]\n",
      "B^T = [[ 1 -2]\n",
      " [ 4  5]]\n"
     ]
    }
   ],
   "source": [
    "A_T = A.T\n",
    "B_T = B.T\n",
    "print('A^T =', A_T)\n",
    "print('B^T =', B_T)"
   ]
  },
  {
   "cell_type": "markdown",
   "id": "32ac2aafb4eaaec3",
   "metadata": {},
   "source": [
    "## (d) Check invertibility using determinants. If invertible, find A^-1 and B^-1\n",
    "\n",
    "For a 2x2 matrix M = [[a, b],\n",
    "\n",
    " [c, d]],\n",
    "det(M) = ad - bc\n",
    "\n",
    "### Formula from class\n",
    "If det(M) != 0 then M^{-1} = (1 / det(M)) * [[d, -b], [-c, a]]\n",
    "\n",
    "### Determinant of A\n",
    "A = [[2, -1], [0, 3]]\n",
    "det(A) = 2*3 - (-1)*0 = 6 - 0 = 6\n",
    "Since det(A) = 6 ≠ 0, A is invertible.\n",
    "\n",
    "Using the formula:\n",
    "\n",
    "## A^{-1} = (1/6) * [[3, 1], [0, 2]]\n",
    "\n",
    "# A^{-1} = [[3/6, 1/6], [0/6, 2/6]] = [[1/2, 1/6], [0, 1/3]]\n",
    "\n",
    "### Determinant of B\n",
    "B = [[1, 4], [-2, 5]]\n",
    "det(B) = 1*5 - 4*(-2) = 5 + 8 = 13\n",
    "Since det(B) = 13 ≠ 0, B is invertible.\n",
    "\n",
    "## B^{-1} = (1/13) * [[5, -4], [2, 1]]\n",
    "\n",
    "## B^{-1} = [[5/13, -4/13], [2/13, 1/13]]\n"
   ]
  },
  {
   "cell_type": "markdown",
   "id": "ca30bf8ed50d573b",
   "metadata": {},
   "source": [
    "### Final Answers (concise)\n",
    "\n",
    "- cA = [[4, -2], [0, 6]]\n",
    "- dB = [[3, 12], [-6, 15]]\n",
    "- (c + d)A = [[10, -5], [0, 15]]\n",
    "- dA (used in verification) = [[6, -3], [0, 9]]\n",
    "- A^T = [[2, 0], [-1, 3]]\n",
    "- B^T = [[1, -2], [4, 5]]\n",
    "- det(A) = 6\n",
    "- A^{-1} = [[1/2, 1/6], [0, 1/3]]\n",
    "- det(B) = 13\n",
    "- B^{-1} = [[5/13, -4/13], [2/13, 1/13]]\n"
   ]
  },
  {
   "cell_type": "code",
   "execution_count": 6,
   "id": "d2fdde21",
   "metadata": {},
   "outputs": [
    {
     "name": "stdout",
     "output_type": "stream",
     "text": [
      "Determinant of A: 6.0\n",
      "Determinant of B: 13.0\n",
      "\n",
      " Inverse of A: \n",
      "[[0.5        0.16666667]\n",
      " [0.         0.33333333]]\n",
      "\n",
      " Inverse of B: \n",
      "[[ 0.38461538 -0.30769231]\n",
      " [ 0.15384615  0.07692308]]\n"
     ]
    }
   ],
   "source": [
    "# Determinant of A\n",
    "det_A = np.linalg.det(A)\n",
    "det_B = np.linalg.det(B)\n",
    "\n",
    "print(f\"Determinant of A: {det_A}\")\n",
    "print(f\"Determinant of B: {det_B}\")\n",
    "\n",
    "\n",
    "inv_A = np.linalg.inv(A)\n",
    "inv_B = np.linalg.inv(B)\n",
    "\n",
    "print(f\"\\n Inverse of A: \\n{inv_A}\")\n",
    "print(f\"\\n Inverse of B: \\n{inv_B}\")"
   ]
  },
  {
   "cell_type": "code",
   "execution_count": null,
   "id": "41886324",
   "metadata": {},
   "outputs": [],
   "source": []
  }
 ],
 "metadata": {
  "kernelspec": {
   "display_name": ".gen_ai",
   "language": "python",
   "name": "python3"
  },
  "language_info": {
   "codemirror_mode": {
    "name": "ipython",
    "version": 3
   },
   "file_extension": ".py",
   "mimetype": "text/x-python",
   "name": "python",
   "nbconvert_exporter": "python",
   "pygments_lexer": "ipython3",
   "version": "3.13.7"
  }
 },
 "nbformat": 4,
 "nbformat_minor": 5
}
