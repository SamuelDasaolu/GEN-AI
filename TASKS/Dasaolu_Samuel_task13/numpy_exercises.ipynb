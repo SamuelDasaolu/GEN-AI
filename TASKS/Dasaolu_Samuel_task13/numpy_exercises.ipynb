{
 "cells": [
  {
   "metadata": {},
   "cell_type": "markdown",
   "source": [
    "## Question 1\n",
    "**Create a 6x6 NumPy array with random integers between 1 and 50. Display the array.**"
   ],
   "id": "69ac1de4744a2298"
  },
  {
   "metadata": {
    "ExecuteTime": {
     "end_time": "2025-09-16T21:38:57.268048Z",
     "start_time": "2025-09-16T21:38:57.256164Z"
    }
   },
   "cell_type": "code",
   "source": [
    "import numpy as np\n",
    "\n",
    "# set a seed for reproducibility\n",
    "np.random.seed(42)\n",
    "\n",
    "# create the array\n",
    "A = np.random.randint(1, 51, size=(6,6))\n",
    "print(\"6x6 Array:\")\n",
    "print(A)"
   ],
   "id": "50f58b369b566e4d",
   "outputs": [
    {
     "name": "stdout",
     "output_type": "stream",
     "text": [
      "6x6 Array:\n",
      "[[39 29 15 43  8 21]\n",
      " [39 19 23 11 11 24]\n",
      " [36 40 24  3 22  2]\n",
      " [24 44 30 38  2 21]\n",
      " [33 12 22 44 25 49]\n",
      " [27 42 28 16 15 47]]\n"
     ]
    }
   ],
   "execution_count": 7
  },
  {
   "metadata": {},
   "cell_type": "markdown",
   "source": [
    "## Question 2\n",
    "**Extract the following:**\n",
    "- The first two rows\n",
    "- The last three columns\n",
    "- All even numbers in the array"
   ],
   "id": "d53bfa18e63e04f4"
  },
  {
   "metadata": {
    "ExecuteTime": {
     "end_time": "2025-09-16T21:43:44.005146Z",
     "start_time": "2025-09-16T21:43:43.990272Z"
    }
   },
   "cell_type": "code",
   "source": [
    "# first two rows\n",
    "first_two_rows = A[:2, :]\n",
    "print(\"First two rows:\")\n",
    "print(first_two_rows)\n",
    "\n",
    "# last three columns\n",
    "last_three_cols = A[:, -3:]\n",
    "print(\"\\nLast three columns:\")\n",
    "print(last_three_cols)\n",
    "\n",
    "# all even numbers\n",
    "even_numbers = A[A % 2 == 0]\n",
    "print(\"\\nAll even numbers:\")\n",
    "print(even_numbers)"
   ],
   "id": "cef3950aed8cd84d",
   "outputs": [
    {
     "name": "stdout",
     "output_type": "stream",
     "text": [
      "First two rows:\n",
      "[[39 29 15 43  8 21]\n",
      " [39 19 23 11 11 24]]\n",
      "\n",
      "Last three columns:\n",
      "[[43  8 21]\n",
      " [11 11 24]\n",
      " [ 3 22  2]\n",
      " [38  2 21]\n",
      " [44 25 49]\n",
      " [16 15 47]]\n",
      "\n",
      "All even numbers:\n",
      "[ 8 24 36 40 24 22  2 24 44 30 38  2 12 22 44 42 28 16]\n"
     ]
    }
   ],
   "execution_count": 8
  },
  {
   "metadata": {},
   "cell_type": "markdown",
   "source": [
    "## Question 3\n",
    "**Array transformations:**\n",
    "- Reshape the array into a 3D (3,2,6) array\n",
    "- Flatten the reshaped array back to 1D\n"
   ],
   "id": "58c0ba545253c6de"
  },
  {
   "metadata": {
    "ExecuteTime": {
     "end_time": "2025-09-16T21:45:31.686059Z",
     "start_time": "2025-09-16T21:45:31.665011Z"
    }
   },
   "cell_type": "code",
   "source": [
    "reshaped = A.reshape(3,2,6)\n",
    "print(\"Reshaped (3,2,6) array:\")\n",
    "print(reshaped)\n",
    "\n",
    "flattened = reshaped.flatten()\n",
    "print(\"\\nFlattened back to 1D:\")\n",
    "print(flattened)"
   ],
   "id": "f6e31fb7f7bd22f6",
   "outputs": [
    {
     "name": "stdout",
     "output_type": "stream",
     "text": [
      "Reshaped (3,2,6) array:\n",
      "[[[39 29 15 43  8 21]\n",
      "  [39 19 23 11 11 24]]\n",
      "\n",
      " [[36 40 24  3 22  2]\n",
      "  [24 44 30 38  2 21]]\n",
      "\n",
      " [[33 12 22 44 25 49]\n",
      "  [27 42 28 16 15 47]]]\n",
      "\n",
      "Flattened back to 1D:\n",
      "[39 29 15 43  8 21 39 19 23 11 11 24 36 40 24  3 22  2 24 44 30 38  2 21\n",
      " 33 12 22 44 25 49 27 42 28 16 15 47]\n"
     ]
    }
   ],
   "execution_count": 9
  },
  {
   "metadata": {},
   "cell_type": "markdown",
   "source": [
    "\n",
    "\n",
    "## Question 4\n",
    "**Generate a 4x4 identity matrix and replace the diagonal with numbers from 10 to 40 (step of 10).**"
   ],
   "id": "65b365adb4e57f80"
  },
  {
   "metadata": {
    "ExecuteTime": {
     "end_time": "2025-09-16T21:49:05.414945Z",
     "start_time": "2025-09-16T21:49:05.400011Z"
    }
   },
   "cell_type": "code",
   "source": [
    "I = np.identity(4, dtype=int)\n",
    "diag_values = np.arange(10, 41, 10)\n",
    "np.fill_diagonal(I, diag_values)\n",
    "\n",
    "print(\"Modified identity matrix:\")\n",
    "print(I)"
   ],
   "id": "4993a85727d14e98",
   "outputs": [
    {
     "name": "stdout",
     "output_type": "stream",
     "text": [
      "Modified identity matrix:\n",
      "[[10  0  0  0]\n",
      " [ 0 20  0  0]\n",
      " [ 0  0 30  0]\n",
      " [ 0  0  0 40]]\n"
     ]
    }
   ],
   "execution_count": 11
  },
  {
   "metadata": {},
   "cell_type": "markdown",
   "source": [
    "## Question 5\n",
    "**Matrix multiplication between:**\n",
    "- A 3x4 matrix of random integers (1-10)\n",
    "- A 4x3 matrix of random integers (1-10)"
   ],
   "id": "8b4655e08643b7a8"
  },
  {
   "metadata": {
    "ExecuteTime": {
     "end_time": "2025-09-16T21:49:08.611899Z",
     "start_time": "2025-09-16T21:49:08.600667Z"
    }
   },
   "cell_type": "code",
   "source": [
    "M1 = np.random.randint(1, 11, size=(3,4))\n",
    "M2 = np.random.randint(1, 11, size=(4,3))\n",
    "\n",
    "print(\"Matrix 1 (3x4):\")\n",
    "print(M1)\n",
    "print(\"\\nMatrix 2 (4x3):\")\n",
    "print(M2)\n",
    "\n",
    "product = np.matmul(M1, M2)\n",
    "print(\"\\nMatrix multiplication result (3x3):\")\n",
    "print(product)"
   ],
   "id": "39049ffa5bf1af69",
   "outputs": [
    {
     "name": "stdout",
     "output_type": "stream",
     "text": [
      "Matrix 1 (3x4):\n",
      "[[3 7 4 9]\n",
      " [3 5 3 7]\n",
      " [5 9 7 2]]\n",
      "\n",
      "Matrix 2 (4x3):\n",
      "[[ 4  9  2]\n",
      " [10  9 10]\n",
      " [ 5  2  4]\n",
      " [ 7  8  3]]\n",
      "\n",
      "Matrix multiplication result (3x3):\n",
      "[[165 170 119]\n",
      " [126 134  89]\n",
      " [159 156 134]]\n"
     ]
    }
   ],
   "execution_count": 12
  },
  {
   "cell_type": "markdown",
   "metadata": {},
   "source": [
    "## Question 6\n",
    "**Function that transforms a 2D array:**  \n",
    "- Even numbers → squared  \n",
    "- Odd numbers → -1"
   ],
   "id": "6e97cc06005af175"
  },
  {
   "metadata": {
    "ExecuteTime": {
     "end_time": "2025-09-16T21:50:28.644053Z",
     "start_time": "2025-09-16T21:50:28.619354Z"
    }
   },
   "cell_type": "code",
   "source": [
    "def transform_array(arr):\n",
    "    # create a copy so as not to modify original\n",
    "    new_arr = arr.copy()\n",
    "    new_arr[new_arr % 2 == 0] = new_arr[new_arr % 2 == 0] ** 2\n",
    "    new_arr[new_arr % 2 == 1] = -1\n",
    "    return new_arr\n",
    "\n",
    "print(\"Original array:\")\n",
    "print(A)\n",
    "print(\"\\nTransformed array:\")\n",
    "print(transform_array(A))"
   ],
   "id": "5807a2d33d0a01a6",
   "outputs": [
    {
     "name": "stdout",
     "output_type": "stream",
     "text": [
      "Original array:\n",
      "[[39 29 15 43  8 21]\n",
      " [39 19 23 11 11 24]\n",
      " [36 40 24  3 22  2]\n",
      " [24 44 30 38  2 21]\n",
      " [33 12 22 44 25 49]\n",
      " [27 42 28 16 15 47]]\n",
      "\n",
      "Transformed array:\n",
      "[[  -1   -1   -1   -1   64   -1]\n",
      " [  -1   -1   -1   -1   -1  576]\n",
      " [1296 1600  576   -1  484    4]\n",
      " [ 576 1936  900 1444    4   -1]\n",
      " [  -1  144  484 1936   -1   -1]\n",
      " [  -1 1764  784  256   -1   -1]]\n"
     ]
    }
   ],
   "execution_count": 13
  }
 ],
 "metadata": {
  "kernelspec": {
   "display_name": "Python 3",
   "language": "python",
   "name": "python3"
  },
  "language_info": {
   "name": "python",
   "version": "3.11"
  }
 },
 "nbformat": 4,
 "nbformat_minor": 5
}
