{
 "cells": [
  {
   "cell_type": "markdown",
   "id": "b6f30321",
   "metadata": {},
   "source": [
    "\n",
    "\n",
    "1. Create a 6x6 NumPy array with random integers between 1 and 50. Display the array.\n",
    "\n",
    "2. Extract the following from the array you created in Question 1: The first two rows. The last three columns. All even numbers in the array.\n",
    "\n",
    "3. Perform the following array transformations: Reshape the array into a 3D (3, 2, 6) array. Flatten the reshaped array back to 1D.\n",
    "\n",
    "4. Generate a 4x4 identity matrix and replace the diagonal with numbers from 10 to 40, with a step of 10.\n",
    "\n",
    "5. Perform matrix multiplication between: A 3x4 matrix of random integers (1-10) A 4x3 matrix of random integers (1-10)\n",
    "\n",
    "6. Create a function that takes a 2D NumPy array as input and returns a new array where: All even numbers are squared. All odd numbers are replaced by -1."
   ]
  },
  {
   "cell_type": "code",
   "execution_count": 2,
   "id": "ee6167c6",
   "metadata": {},
   "outputs": [
    {
     "name": "stdout",
     "output_type": "stream",
     "text": [
      "NumPy version: 2.3.3\n"
     ]
    }
   ],
   "source": [
    "# import all neccsarry libraries\n",
    "\n",
    "import numpy as np\n",
    "import matplotlib.pyplot as plt\n",
    "import time\n",
    "\n",
    "# Check NumPy version\n",
    "print(f\"NumPy version: {np.__version__}\")\n",
    "\n",
    "# Display settings for cleaner output\n",
    "np.set_printoptions(precision=3, suppress=True)"
   ]
  },
  {
   "cell_type": "code",
   "execution_count": 16,
   "id": "0dd5ae5f",
   "metadata": {},
   "outputs": [
    {
     "name": "stdout",
     "output_type": "stream",
     "text": [
      "Random 6x6 array: 6\n"
     ]
    },
    {
     "name": "stderr",
     "output_type": "stream",
     "text": [
      "C:\\Users\\NCC100\\AppData\\Local\\Temp\\ipykernel_9208\\4224852527.py:2: DeprecationWarning: This function is deprecated. Please call randint(6, 6 + 1) instead\n",
      "  random_array = np.random.random_integers(6, 6)\n"
     ]
    }
   ],
   "source": [
    "# TASK 1\n",
    "random_array = np.random.random_integers(6, 6)\n",
    "print(f\"Random 6x6 array: {random_array}\")"
   ]
  }
 ],
 "metadata": {
  "kernelspec": {
   "display_name": ".gen_ai",
   "language": "python",
   "name": "python3"
  },
  "language_info": {
   "codemirror_mode": {
    "name": "ipython",
    "version": 3
   },
   "file_extension": ".py",
   "mimetype": "text/x-python",
   "name": "python",
   "nbconvert_exporter": "python",
   "pygments_lexer": "ipython3",
   "version": "3.13.7"
  }
 },
 "nbformat": 4,
 "nbformat_minor": 5
}
