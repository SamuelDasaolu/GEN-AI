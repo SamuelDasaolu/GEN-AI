{
 "cells": [
  {
   "metadata": {
    "ExecuteTime": {
     "end_time": "2025-10-14T13:45:59.973324Z",
     "start_time": "2025-10-14T13:45:59.967293Z"
    }
   },
   "cell_type": "code",
   "source": [
    "def greet_customer():\n",
    "    return \"Welcome to our shop!\"\n",
    "\n",
    "# You can assign functions to variables\n",
    "my_greeting = greet_customer\n",
    "print(my_greeting())  # Welcome to our shop!\n",
    "\n",
    "# You can pass functions as arguments\n",
    "def use_greeting(greeting_func):\n",
    "    return f\"Shopkeeper says: {greeting_func()}\"\n",
    "\n",
    "print(use_greeting(greet_customer))\n",
    "\n",
    "# Shopkeeper says: Welcome to our shop!"
   ],
   "id": "55d8ae24a2ff18c2",
   "outputs": [
    {
     "name": "stdout",
     "output_type": "stream",
     "text": [
      "Welcome to our shop!\n",
      "Shopkeeper says: Welcome to our shop!\n"
     ]
    }
   ],
   "execution_count": 3
  },
  {
   "cell_type": "code",
   "id": "initial_id",
   "metadata": {
    "collapsed": true,
    "ExecuteTime": {
     "end_time": "2025-10-14T13:46:33.004738Z",
     "start_time": "2025-10-14T13:46:32.999528Z"
    }
   },
   "source": [
    "def add_nigerian_politeness(original_function):\n",
    "    \"\"\"This decorator adds Nigerian politeness to any greeting\"\"\"\n",
    "    def wrapper():\n",
    "        result = original_function()\n",
    "        return f\"Good morning ooo! {result} How is family? \"\n",
    "    return wrapper\n",
    "\n",
    "# Original simple greeting\n",
    "def basic_greeting():\n",
    "    return \"Hello\""
   ],
   "outputs": [],
   "execution_count": 5
  },
  {
   "metadata": {
    "ExecuteTime": {
     "end_time": "2025-10-14T13:46:38.601005Z",
     "start_time": "2025-10-14T13:46:38.595482Z"
    }
   },
   "cell_type": "code",
   "source": [
    "# Apply the decorator manually\n",
    "polite_greeting = add_nigerian_politeness(basic_greeting)\n",
    "print(polite_greeting())"
   ],
   "id": "e47b79fec0160968",
   "outputs": [
    {
     "name": "stdout",
     "output_type": "stream",
     "text": [
      "Good morning ooo! Hello How is family? \n"
     ]
    }
   ],
   "execution_count": 6
  },
  {
   "metadata": {
    "ExecuteTime": {
     "end_time": "2025-10-14T13:46:47.479198Z",
     "start_time": "2025-10-14T13:46:47.473685Z"
    }
   },
   "cell_type": "code",
   "source": [
    "# Using the @ symbol (syntactic sugar)\n",
    "@add_nigerian_politeness\n",
    "def shop_greeting():\n",
    "    return \"Welcome to my provision store\"\n",
    "\n",
    "print(shop_greeting())"
   ],
   "id": "628af36d32f50ba5",
   "outputs": [
    {
     "name": "stdout",
     "output_type": "stream",
     "text": [
      "Good morning ooo! Welcome to my provision store How is family? \n"
     ]
    }
   ],
   "execution_count": 7
  },
  {
   "metadata": {
    "ExecuteTime": {
     "end_time": "2025-10-14T14:21:40.109241Z",
     "start_time": "2025-10-14T14:21:39.285093Z"
    }
   },
   "cell_type": "code",
   "source": [
    "def add_nigerian_time_greeting(time_of_day):\n",
    "    \"\"\"Decorator that adds appropriate Nigerian greeting based on time\"\"\"\n",
    "    def decorator(original_function):\n",
    "        def wrapper():\n",
    "            if time_of_day == 'morning':\n",
    "                greeting = \"Good morning ooo!\"\n",
    "            elif time_of_day == 'afternoon':\n",
    "                greeting = 'Good afternoon!'\n",
    "            elif time_of_day == 'evening':\n",
    "                greeting = 'Good evening ooo!'\n",
    "\n",
    "            result = original_function()\n",
    "            return f\"{greeting} {result}\"\n",
    "        return wrapper\n",
    "    return decorator"
   ],
   "id": "f25c989588ea8db1",
   "outputs": [],
   "execution_count": 8
  },
  {
   "metadata": {
    "ExecuteTime": {
     "end_time": "2025-10-14T14:23:05.818124Z",
     "start_time": "2025-10-14T14:23:05.811129Z"
    }
   },
   "cell_type": "code",
   "source": [
    "# Using the decorator with different times\n",
    "@add_nigerian_time_greeting('morning')\n",
    "def market_greeting():\n",
    "    return \"Welcome to our shop. How can we help you today?\""
   ],
   "id": "f35392998bd046f6",
   "outputs": [],
   "execution_count": 9
  },
  {
   "metadata": {
    "ExecuteTime": {
     "end_time": "2025-10-14T14:24:13.276206Z",
     "start_time": "2025-10-14T14:24:13.267668Z"
    }
   },
   "cell_type": "code",
   "source": [
    "@add_nigerian_time_greeting('evening')\n",
    "def restaurant_greeting():\n",
    "    return \"Welcome to our restaurant. What would you like to eat?\""
   ],
   "id": "5be72ae48f4f90ae",
   "outputs": [],
   "execution_count": 10
  },
  {
   "metadata": {
    "ExecuteTime": {
     "end_time": "2025-10-14T14:24:35.807947Z",
     "start_time": "2025-10-14T14:24:35.793305Z"
    }
   },
   "cell_type": "code",
   "source": [
    "print(market_greeting())\n",
    "print(restaurant_greeting())"
   ],
   "id": "a6eb972424600b0b",
   "outputs": [
    {
     "name": "stdout",
     "output_type": "stream",
     "text": [
      "Good morning ooo! Welcome to our shop. How can we help you today?\n",
      "Good evening ooo! Welcome to our restaurant. What would you like to eat?\n"
     ]
    }
   ],
   "execution_count": 11
  },
  {
   "metadata": {
    "ExecuteTime": {
     "end_time": "2025-10-14T14:31:50.099235Z",
     "start_time": "2025-10-14T14:31:50.094427Z"
    }
   },
   "cell_type": "code",
   "source": [
    "def naira_formatter(currency_symbol=\"₦\"):\n",
    "    \"\"\"Decorator to format prices in Nigerian Naira (NGN-₦)\"\"\"\n",
    "    def decorator(price_function):\n",
    "        def wrapper(*args, **kwargs):\n",
    "            price = price_function(*args, **kwargs)\n",
    "            return f\"{currency_symbol}{price:,}\"\n",
    "        return wrapper\n",
    "    return decorator"
   ],
   "id": "3bce636e806478ba",
   "outputs": [],
   "execution_count": 38
  },
  {
   "metadata": {
    "ExecuteTime": {
     "end_time": "2025-10-14T14:31:50.265277Z",
     "start_time": "2025-10-14T14:31:50.261287Z"
    }
   },
   "cell_type": "code",
   "source": [
    "@naira_formatter()\n",
    "def rice_price():\n",
    "    return 234324332432432434"
   ],
   "id": "e7d99d320275124e",
   "outputs": [],
   "execution_count": 39
  },
  {
   "metadata": {
    "ExecuteTime": {
     "end_time": "2025-10-14T14:31:50.924519Z",
     "start_time": "2025-10-14T14:31:50.920553Z"
    }
   },
   "cell_type": "code",
   "source": [
    "@naira_formatter()\n",
    "def calculate_transport_fare(distance_km):\n",
    "    base_fare = 200\n",
    "    per_km = 50\n",
    "    return base_fare + (distance_km * per_km)"
   ],
   "id": "8d6c1d12e043527d",
   "outputs": [],
   "execution_count": 40
  },
  {
   "metadata": {
    "ExecuteTime": {
     "end_time": "2025-10-14T14:31:51.352652Z",
     "start_time": "2025-10-14T14:31:51.348641Z"
    }
   },
   "cell_type": "code",
   "source": [
    "print(rice_price())\n",
    "print(calculate_transport_fare(5))"
   ],
   "id": "99cc57df2b62dfaa",
   "outputs": [
    {
     "name": "stdout",
     "output_type": "stream",
     "text": [
      "₦234,324,332,432,432,434\n",
      "₦450\n"
     ]
    }
   ],
   "execution_count": 41
  }
 ],
 "metadata": {
  "kernelspec": {
   "display_name": "Python 3",
   "language": "python",
   "name": "python3"
  },
  "language_info": {
   "codemirror_mode": {
    "name": "ipython",
    "version": 2
   },
   "file_extension": ".py",
   "mimetype": "text/x-python",
   "name": "python",
   "nbconvert_exporter": "python",
   "pygments_lexer": "ipython2",
   "version": "2.7.6"
  }
 },
 "nbformat": 4,
 "nbformat_minor": 5
}
