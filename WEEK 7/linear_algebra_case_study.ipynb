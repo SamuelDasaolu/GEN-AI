{
 "cells": [
  {
   "cell_type": "markdown",
   "id": "b118d914",
   "metadata": {},
   "source": [
    "# Solution to Case Study\n",
    "## 2\n",
    "\n",
    "\n",
    "$scores = \\begin{bmatrix} 80 & 70 & 90 \\\\ 60 & 85 & 75 \\\\ 95 & 88 & 92 \\\\ 70 & 60 & 65 \\end{bmatrix}$\n"
   ]
  },
  {
   "cell_type": "code",
   "execution_count": 42,
   "id": "dbdea63f",
   "metadata": {},
   "outputs": [
    {
     "name": "stdout",
     "output_type": "stream",
     "text": [
      "Initial Scores Matrix \n",
      "[[80 70 90]\n",
      " [60 85 75]\n",
      " [95 88 92]\n",
      " [70 60 65]]\n",
      "\n",
      "Sum by row = \n",
      "[240 220 275 195]\n",
      "\n",
      "Score for Student 1 = 240\n",
      "Score for Student 2 = 220\n",
      "Score for Student 3 = 275\n",
      "Score for Student 4 = 195\n",
      "\n",
      " After Applying x2 to Maths : \n",
      "[[160  70  90]\n",
      " [120  85  75]\n",
      " [190  88  92]\n",
      " [140  60  65]]\n",
      "\n",
      " Average Score per Subject: \n",
      "[152.5   75.75  80.5 ]\n",
      "\n",
      " Final Scores After Matrix Multiplication: \n",
      "[119.  100.5 139.8 101. ]\n",
      "\n",
      "Comparing Student Scores(By Column): \n",
      "[[-40  15 -15]\n",
      " [ 70   3  17]\n",
      " [-50 -28 -27]]\n"
     ]
    }
   ],
   "source": [
    "import numpy as np\n",
    "scores = np.array([[80, 70, 90], [60, 85, 75], [95, 88, 92], [70, 60, 65]])\n",
    "print(f\"Initial Scores Matrix \\n{scores}\")\n",
    "\n",
    "# Sum of Rows\n",
    "answer3_2 = np.sum(scores, axis=1)\n",
    "i = 1\n",
    "print(f\"\\nSum by row = \\n{answer3_2}\\n\")\n",
    "for score in answer3_2:\n",
    "    print(f\"Score for Student {i} = {score}\")\n",
    "    i+=1\n",
    "\n",
    "\n",
    "# Weight applied to Maths Column\n",
    "copy = scores.copy()\n",
    "copy[:, 0] = 2 * copy[:, 0]\n",
    "print(f\"\\n After Applying x2 to Maths : \\n{copy}\")\n",
    "\n",
    "# Average Score per subject = Column wise Mean\n",
    "answer3_4 = np.mean(copy, axis=0)\n",
    "print(f\"\\n Average Score per Subject: \\n{answer3_4}\")\n",
    "\n",
    "# Final Grades Using Matrix Multiplication\n",
    "weight_vector = np.array([0.5, 0.3, 0.2])\n",
    "answer3_5 = np.dot(copy, weight_vector)\n",
    "print(f\"\\n Final Scores After Matrix Multiplication: \\n{answer3_5}\")\n",
    "\n",
    "#\n",
    "answer3_6 = np.diff(copy, axis=0)\n",
    "print(f\"\\nComparing Student Scores(By Column): \\n{answer3_6}\")\n",
    "\n",
    "\n"
   ]
  },
  {
   "cell_type": "markdown",
   "id": "0e192744",
   "metadata": {},
   "source": [
    "# 5. Add -On Excercises"
   ]
  },
  {
   "cell_type": "markdown",
   "id": "e272ceb8",
   "metadata": {},
   "source": [
    "\n",
    "\n",
    "$scores\\_matrix = \\begin{bmatrix} 80 & 70 & 90 & 80 \\\\ 60 & 85 & 75 & 95 \\\\ 95 & 88 & 92 & 70 \\\\ 70 & 60 & 65 &85 \\\\ 90 & 40 & 75 & 65 \\end{bmatrix}$\n",
    "\n",
    "Student &emsp;    Math       English      Science     Computer\n",
    "\n",
    "student1\n",
    "\n",
    "student2\n",
    "\n",
    "student3\n",
    "\n",
    "student4\n",
    "\n",
    "student5\n",
    "\n"
   ]
  },
  {
   "cell_type": "code",
   "execution_count": 43,
   "id": "89571bee",
   "metadata": {},
   "outputs": [
    {
     "name": "stdout",
     "output_type": "stream",
     "text": [
      "Initial Scores Matrix \n",
      " [[80 70 90 80]\n",
      " [60 85 75 95]\n",
      " [95 88 92 70]\n",
      " [70 60 65 85]\n",
      " [90 40 75 65]]\n"
     ]
    }
   ],
   "source": [
    "scores_matrix = np.array([[80, 70, 90, 80], \n",
    "                          [60, 85, 75, 95], \n",
    "                          [95, 88, 92, 70], \n",
    "                          [70, 60, 65, 85], \n",
    "                          [90, 40, 75, 65]])\n",
    "\n",
    "print(\"Initial Scores Matrix \\n\", scores_matrix)\n"
   ]
  },
  {
   "cell_type": "markdown",
   "id": "7e0242d1",
   "metadata": {},
   "source": [
    "### 1. Each Student's Total Score and Average Per Subect"
   ]
  },
  {
   "cell_type": "code",
   "execution_count": 49,
   "id": "b23300d4",
   "metadata": {},
   "outputs": [
    {
     "name": "stdout",
     "output_type": "stream",
     "text": [
      "\n",
      "Sum by row = \n",
      "[320 315 345 280 270]\n",
      "\n",
      "Total Score for Student 1 = 320\n",
      "Total Score for Student 2 = 315\n",
      "Total Score for Student 3 = 345\n",
      "Total Score for Student 4 = 280\n",
      "Total Score for Student 5 = 270\n",
      "\n",
      " Average Score per Subject: \n",
      "[79.  68.6 79.4 79. ]\n",
      "Average Score for Mathematics = 79.0\n",
      "Average Score for English = 68.6\n",
      "Average Score for Science = 79.4\n",
      "Average Score for Computer = 79.0\n"
     ]
    }
   ],
   "source": [
    "total_scores_per_student = np.sum(scores_matrix, axis=1)\n",
    "print(f\"\\nSum by row = \\n{total_scores_per_student}\\n\")\n",
    "\n",
    "i = 1\n",
    "for score in total_scores_per_student:\n",
    "    print(f\"Total Score for Student {i} = {score}\")\n",
    "    i+=1\n",
    "    \n",
    "# Average Score per subject = Column wise Mean\n",
    "average_per_subject = np.mean(scores_matrix, axis=0)\n",
    "print(f\"\\n Average Score per Subject: \\n{average_per_subject}\")\n",
    "print(f\"Average Score for Mathematics = {average_per_subject[0]}\")\n",
    "print(f\"Average Score for English = {average_per_subject[1]}\")\n",
    "print(f\"Average Score for Science = {average_per_subject[2]}\")\n",
    "print(f\"Average Score for Computer = {average_per_subject[3]}\")\n"
   ]
  },
  {
   "cell_type": "markdown",
   "id": "693919f4",
   "metadata": {},
   "source": [
    "### 2. Apply Weight of 3x to Science \n",
    "\n",
    "i.e. $scores\\_matrix [2]\\times 3$"
   ]
  },
  {
   "cell_type": "code",
   "execution_count": 51,
   "id": "1136bc60",
   "metadata": {},
   "outputs": [
    {
     "name": "stdout",
     "output_type": "stream",
     "text": [
      "\n",
      " Matrix after 3 * Science Column: \n",
      " [[ 80  70 270  80]\n",
      " [ 60  85 225  95]\n",
      " [ 95  88 276  70]\n",
      " [ 70  60 195  85]\n",
      " [ 90  40 225  65]]\n",
      "\n",
      "Sum by row = \n",
      "[500 465 529 410 420]\n",
      "\n",
      "New Total Score for Student 1 = 500\n",
      "New Total Score for Student 2 = 465\n",
      "New Total Score for Student 3 = 529\n",
      "New Total Score for Student 4 = 410\n",
      "New Total Score for Student 5 = 420\n"
     ]
    }
   ],
   "source": [
    "scores_copy = scores_matrix.copy()\n",
    "# Apply 3x to Science Column\n",
    "scores_copy[:, 2] = 3 * scores_copy[:, 2]\n",
    "print(\"\\n Matrix after 3 * Science Column: \\n\", scores_copy)\n",
    "#Recompute Totals Per Student\n",
    "new_total_scores_per_student = np.sum(scores_copy, axis=1)\n",
    "print(f\"\\nSum by row = \\n{new_total_scores_per_student}\\n\")\n",
    "\n",
    "i = 1\n",
    "for score in new_total_scores_per_student:\n",
    "    print(f\"New Total Score for Student {i} = {score}\")\n",
    "    i+=1\n"
   ]
  },
  {
   "cell_type": "markdown",
   "id": "7ab441d7",
   "metadata": {},
   "source": [
    "### Define new weights for grading and Compute Final Grades\n",
    "e.g. $weights\\_vector\\ = [0.4, 0.2, 0.3, 0.1] $\n"
   ]
  },
  {
   "cell_type": "code",
   "execution_count": 54,
   "id": "b5ee5dca",
   "metadata": {},
   "outputs": [
    {
     "name": "stdout",
     "output_type": "stream",
     "text": [
      "\n",
      " Final Scores After Matrix Multiplication: \n",
      "[135.  118.  145.4 107.  118. ] \n",
      "\n",
      "Final Grade for Student 1: 135.0\n",
      "Final Grade for Student 2: 118.0\n",
      "Final Grade for Student 3: 145.4\n",
      "Final Grade for Student 4: 107.0\n",
      "Final Grade for Student 5: 118.0\n"
     ]
    }
   ],
   "source": [
    "# Final Grades Using Matrix Multiplication\n",
    "final_weight_vector = np.array([0.4, 0.2, 0.3, 0.1])\n",
    "final_grades = np.dot(scores_copy, final_weight_vector)\n",
    "print(f\"\\n Final Scores After Matrix Multiplication: \\n{final_grades} \\n\")\n",
    "\n",
    "i=1\n",
    "for score in final_grades:\n",
    "    print(f\"Final Grade for Student {i}: {score}\")\n",
    "    i+=1"
   ]
  }
 ],
 "metadata": {
  "kernelspec": {
   "display_name": ".gen_ai",
   "language": "python",
   "name": "python3"
  },
  "language_info": {
   "codemirror_mode": {
    "name": "ipython",
    "version": 3
   },
   "file_extension": ".py",
   "mimetype": "text/x-python",
   "name": "python",
   "nbconvert_exporter": "python",
   "pygments_lexer": "ipython3",
   "version": "3.13.7"
  }
 },
 "nbformat": 4,
 "nbformat_minor": 5
}
