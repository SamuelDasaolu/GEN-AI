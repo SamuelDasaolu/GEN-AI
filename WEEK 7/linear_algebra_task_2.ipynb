{
 "cells": [
  {
   "cell_type": "markdown",
   "source": [
    "# Matrix Operations: Class Task 2"
   ],
   "metadata": {}
  },
  {
   "cell_type": "markdown",
   "source": [
    "## Part a:\n",
    "\n",
    "**Matrix A** has **2 rows** and **3 columns**, making it a $2 \\times 3$ matrix.\n",
    "\n",
    "**Matrix B** has **3 rows** and **2 columns**, making it a a $3 \\times 2$ matrix.\n"
   ],
   "metadata": {}
  },
  {
   "cell_type": "markdown",
   "source": [
    "## Part b:\n",
    "\n",
    "For **AB**, the number of columns in **A** (which is 3) matches the number of rows in **B** (which is 3).\n",
    "Thus, **AB** can be multiplied.\n",
    "\n",
    "For **BA**, the number of columns in **B** (which is 2) matches the number of rows in **A** (which is 2).\n",
    "\n",
    "Thus, **BA** can be multiplied.\n",
    "\n",
    "Therefore, both **AB** and **BA** can be multiplied."
   ],
   "metadata": {}
  },
  {
   "cell_type": "markdown",
   "source": [
    "## Part c\n",
    "#### Step-by-step calculation of AB\n",
    "The resulting matrix will be a $2 \\times 2$ matrix.\n",
    "\n",
    "$AB = \\begin{bmatrix} 2 & -1 & 3 \\\\ 0 & 4 & 1 \\end{bmatrix} \\begin{bmatrix} 1 & 2 \\\\ -2 & 0 \\\\ 5 & -3 \\end{bmatrix} = \\begin{bmatrix} c_{11} & c_{12} \\\\ c_{21} & c_{22} \\end{bmatrix}$"
   ],
   "metadata": {}
  },
  {
   "cell_type": "markdown",
   "source": [
    "- **$c_{11}$**: (2)(1) + (-1)(-2) + (3)(5) = 2 + 2 + 15 = **19**\n",
    "- **$c_{12}$**: (2)(2) + (-1)(0) + (3)(-3) = 4 + 0 - 9 = **-5**\n",
    "- **$c_{21}$**: (0)(1) + (4)(-2) + (1)(5) = 0 - 8 + 5 = **-3**\n",
    "- **$c_{22}$**: (0)(2) + (4)(0) + (1)(-3) = 0 + 0 - 3 = **-3**\n",
    "\n",
    "\n",
    "$AB = \\begin{bmatrix} 19 & -5 \\\\ -3 & -3 \\end{bmatrix}$"
   ],
   "metadata": {}
  },
  {
   "cell_type": "markdown",
   "source": [
    "#### Step-by-step calculation of BA\n",
    "\n",
    "The resulting matrix will be a $3 \\times 3$ matrix. \\n\n",
    "$BA = \\begin{bmatrix} 1 & 2 \\\\ -2 & 0 \\\\ 5 & -3 \\end{bmatrix} \\begin{bmatrix} 2 & -1 & 3 \\\\ 0 & 4 & 1 \\end{bmatrix} = \\begin{bmatrix} d_{11} & d_{12} & d_{13} \\\\ d_{21} & d_{22} & d_{23} \\\\ d_{31} & d_{32} & d_{33} \\end{bmatrix}$"
   ],
   "metadata": {}
  },
  {
   "cell_type": "markdown",
   "source": [
    "\n",
    "- **$d_{11}$**: (1)(2) + (2)(0) = 2 + 0 = **2**\n",
    "- **$d_{12}$**: (1)(-1) + (2)(4) = -1 + 8 = **7**\n",
    "- **$d_{13}$**: (1)(3) + (2)(1) = 3 + 2 = **5**\n",
    "- **$d_{21}$**: (-2)(2) + (0)(0) = -4 + 0 = **-4**\n",
    "- **$d_{22}$**: (-2)(-1) + (0)(4) = 2 + 0 = **2**\n",
    "- **$d_{23}$**: (-2)(3) + (0)(1) = -6 + 0 = **-6**\n",
    "- **$d_{31}$**: (5)(2) + (-3)(0) = 10 + 0 = **10**\n",
    "- **$d_{32}$**: (5)(-1) + (-3)(4) = -5 - 12 = **-17**\n",
    "- **$d_{33}$**: (5)(3) + (-3)(1) = 15 - 3 = **12**\n",
    "\n",
    "$BA = \\begin{bmatrix} 2 & 7 & 5 \\\\ -4 & 2 & -6 \\\\ 10 & -17 & 12 \\end{bmatrix}$"
   ],
   "metadata": {}
  },
  {
   "metadata": {
    "ExecuteTime": {
     "end_time": "2025-09-15T19:09:58.461812Z",
     "start_time": "2025-09-15T19:09:58.445931Z"
    }
   },
   "cell_type": "code",
   "source": [
    "## Solution using numpy as taught\n",
    "import numpy as np\n",
    "\n",
    "A = np.array([[2, -1, 3],\n",
    "              [0, 4, 1]])\n",
    "B = np.array([[1, 2],\n",
    "              [-2, 0],\n",
    "              [5, -3]])\n",
    "\n",
    "AB = A.dot(B)\n",
    "BA = B.dot(A)\n",
    "\n",
    "print(\"A (shape):\", A.shape)\n",
    "print(A)\n",
    "print('\\nB (shape):', B.shape)\n",
    "print(B)\n",
    "\n",
    "print('\\nAB (shape):', AB.shape)\n",
    "print(AB)\n",
    "\n",
    "print('\\nBA (shape):', BA.shape)\n",
    "print(BA)\n"
   ],
   "outputs": [
    {
     "name": "stdout",
     "output_type": "stream",
     "text": [
      "A (shape): (2, 3)\n",
      "[[ 2 -1  3]\n",
      " [ 0  4  1]]\n",
      "\n",
      "B (shape): (3, 2)\n",
      "[[ 1  2]\n",
      " [-2  0]\n",
      " [ 5 -3]]\n",
      "\n",
      "AB (shape): (2, 2)\n",
      "[[19 -5]\n",
      " [-3 -3]]\n",
      "\n",
      "BA (shape): (3, 3)\n",
      "[[  2   7   5]\n",
      " [ -4   2  -6]\n",
      " [ 10 -17  12]]\n"
     ]
    }
   ],
   "execution_count": 11
  }
 ],
 "metadata": {
  "kernelspec": {
   "display_name": "Python 3",
   "language": "python",
   "name": "python3"
  },
  "language_info": {
   "codemirror_mode": {
    "name": "ipython",
    "version": 3
   },
   "file_extension": ".py",
   "mimetype": "text/x-python",
   "name": "python",
   "nbconvert_exporter": "python",
   "pygments_lexer": "ipython3",
   "version": "3.8.5"
  }
 },
 "nbformat": 4,
 "nbformat_minor": 4
}
