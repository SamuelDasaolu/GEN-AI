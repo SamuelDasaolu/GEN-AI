{
 "cells": [
  {
   "metadata": {},
   "cell_type": "markdown",
   "source": [
    "# Task1– Mean, Median & Mode\n",
    "\n",
    "## 1: Class Test Scores\n",
    "\n",
    "The following are the Mathematics test scores (out of 20) for a class of 15 students:\n",
    "\n",
    " 5, 8, 10, 12, 12, 12, 13, 14, 14, 15, 16, 18, 18, 20, 20\n",
    "\n",
    "Find the mean, median, and mode of the scores.\n",
    "\n",
    "\n",
    "If the lowest score (5) was wrongly recorded and should have been 10, how would the mean change? Would the median or mode change? Explain.\n",
    "\n",
    "\n",
    "## 2: Daily Commute Times\n",
    "\n",
    "A group of 9 students reported the time (in minutes) it takes them to get to school each day:\n",
    "\n",
    " 15, 20, 20, 25, 25, 30, 60, 65, 120\n",
    "\n",
    "Find the mean, median, and mode of the data.\n",
    "\n",
    "\n",
    "Which measure (mean, median, or mode) do you think best represents the “typical” time it takes students to get to school? Why?\n",
    " (Hint: Think about the effect of the student who takes 120 minutes.)\n",
    "\n",
    "\n",
    "## 3: Shoe Sizes\n",
    "\n",
    "The shoe sizes of students in a class are:\n",
    "\n",
    " 38, 39, 38, 40, 41, 42, 39, 39, 40, 38, 37, 39, 40, 41, 42\n",
    "\n",
    "Find the mode of the data.\n",
    "\n",
    "\n",
    "If a shoe company wants to donate free shoes, which size should they produce most of? Why?\n",
    "\n",
    "\n",
    "What if they only want to produce one size that would fit the \"average\" student? Should they use mean, median, or mode? Defend your answer.\n",
    "\n"
   ],
   "id": "6f05d9eab7d2297e"
  },
  {
   "metadata": {},
   "cell_type": "markdown",
   "source": [
    "##  scores = [5, 8, 10, 12, 12, 12, 13, 14, 14, 15, 16, 18, 18, 20, 20]\n",
    "\n",
    "### 1a.\n",
    "$$\n",
    "mean = (sum\\ of\\ population) \\div no\\_of\\_population\n",
    "$$\n",
    "$$\n",
    "= \\frac{5 + 8 + 10 + 12 + 12 + 12 + 13 + 14 + 14 + 15 + 16 + 18 + 18 + 20 + 20}{15}\n",
    "$$\n",
    "$$\n",
    "= \\frac{207}{15}\n",
    "$$\n",
    "$$\n",
    "\\therefore mean = 13.8\n",
    "$$\n",
    "\n",
    "### 1b.\n",
    "$$\n",
    "median = \\frac{N + 1}{2} th\n",
    "$$\n",
    "$$\n",
    "= \\frac{15 + 1}{2} th\n",
    "$$\n",
    "$$\n",
    "= \\frac{16}{2} th = 8th\\ position\n",
    "$$\n",
    "$$ \\therefore median = 14$$\n",
    "\n",
    "### 1c.\n",
    "$$ mode = most\\ occuring\\ element$$\n",
    "$$ \\therefore mode = 12$$"
   ],
   "id": "fa2dd4edbc723c2f"
  },
  {
   "metadata": {
    "ExecuteTime": {
     "end_time": "2025-10-10T12:21:05.093196Z",
     "start_time": "2025-10-10T12:21:04.844611Z"
    }
   },
   "cell_type": "code",
   "source": [
    "# Confirmation with Numpy\n",
    "import numpy as np\n",
    "\n",
    "scores = np.array([5, 8, 10, 12, 12, 12, 13, 14, 14, 15, 16, 18, 18, 20, 20])\n",
    "sum_of_scores = scores.sum()\n",
    "no_of_scores = scores.size\n",
    "print(f\"Sum of Scores: {sum_of_scores}\")\n",
    "print(f\"Mean of Scores: {sum_of_scores / no_of_scores}\")\n",
    "print(f\"Median of Scores: {np.median(scores)}\")\n",
    "counts = np.bincount(scores)\n",
    "mode_value = np.argmax(counts)\n",
    "print(f\"Mode of Scores: {mode_value}\")"
   ],
   "id": "44daeb234d86ddfa",
   "outputs": [
    {
     "name": "stdout",
     "output_type": "stream",
     "text": [
      "Sum of Scores: 207\n",
      "Mean of Scores: 13.8\n",
      "Median of Scores: 14.0\n",
      "Mode of Scores: 12\n"
     ]
    }
   ],
   "execution_count": 1
  },
  {
   "metadata": {},
   "cell_type": "markdown",
   "source": [
    "## commute\\_times =  [15, 20, 20, 25, 25, 30, 60, 65, 120]\n",
    "\n",
    "### 2a.\n",
    "$$\n",
    "mean = (sum\\ of\\ population) \\div no\\_of\\_population\n",
    "$$\n",
    "$$\n",
    "= \\frac{15 + 20 + 20 + 25 + 25 + 30 + 60 + 65 + 120}{9}\n",
    "$$\n",
    "$$\n",
    "= \\frac{380}{9}\n",
    "$$\n",
    "$$\n",
    "\\therefore mean = 42.\\overline{22}\n",
    "$$\n",
    "\n",
    "### 2b.\n",
    "$$\n",
    "median = \\frac{N + 1}{2} th\n",
    "$$\n",
    "$$\n",
    "= \\frac{9 + 1}{2} th\n",
    "$$\n",
    "$$\n",
    "= \\frac{10}{2} th = 5th\\ position\n",
    "$$\n",
    "$$ \\therefore median = 25$$\n",
    "\n",
    "### 2c.\n",
    "$$ mode = most\\ occuring\\ element$$\n",
    "$$ \\therefore mode = 20 \\ \\&\\  25\\ (bimodal)$$\n",
    "\n",
    "### 2d.\n",
    "$$ The\\ mode\\ is\\ the\\ preferred\\ measure\\ used\\ since\\ it\\ is\\ not\\ affected\\ by\\ extreme values $$"
   ],
   "id": "a259f1a8cbd9b6b8"
  },
  {
   "metadata": {
    "ExecuteTime": {
     "end_time": "2025-10-10T12:21:05.105515Z",
     "start_time": "2025-10-10T12:21:05.100373Z"
    }
   },
   "cell_type": "code",
   "source": [
    "# Confirmation with Numpy\n",
    "import numpy as np\n",
    "\n",
    "scores = np.array([15, 20, 20, 25, 25, 30, 60, 65, 120])\n",
    "sum_of_scores = scores.sum()\n",
    "no_of_scores = scores.size\n",
    "print(f\"Sum of Scores: {sum_of_scores}\")\n",
    "print(f\"Mean of Scores: {sum_of_scores / no_of_scores}\")\n",
    "print(f\"Median of Scores: {np.median(scores)}\")\n",
    "counts = np.bincount(scores)\n",
    "mode_value = np.argmax(counts)\n",
    "print(f\"Mode of Scores: {mode_value} and 25\")"
   ],
   "id": "463308c0389a4456",
   "outputs": [
    {
     "name": "stdout",
     "output_type": "stream",
     "text": [
      "Sum of Scores: 380\n",
      "Mean of Scores: 42.22222222222222\n",
      "Median of Scores: 25.0\n",
      "Mode of Scores: 20 and 25\n"
     ]
    }
   ],
   "execution_count": 2
  },
  {
   "metadata": {},
   "cell_type": "markdown",
   "source": [
    " #### shoe\\_sizes = [38, 39, 38, 40, 41, 42, 39, 39, 40, 38, 37, 39, 40, 41, 42]\n",
    " ##### shoe\\_sizes\\_sorted = [37, 38, 38, 38, 39, 39, 39, 39, 40, 40, 40, 41, 41, 42, 42]\n",
    "\n",
    "### 3a.\n",
    "$$ mode = most\\ occuring\\ element$$\n",
    "$$ \\therefore mode = 39\\ 4\\ times$$\n",
    "\n",
    "### 3b.\n",
    "\n",
    "``` c\n",
    "- A shoe company wanting to donate free shoes should produce mostly size 39.\n",
    "- The mode represents the most common shoe size among the students, so producing the most popular size will ensure\n",
    "that the greatest number of students can receive a pair of shoes that fits.\n",
    "```\n",
    "\n",
    "### 3c.\n",
    "``` c\n",
    "\n",
    "**ANSWER**: They should still use the mode\n",
    "\n",
    "**REASONING**: The mean is the arithmetic average, calculated by adding all values and dividing by the number of values.\n",
    "- Why it's a poor choice: For shoe size data, the mean is not practical.\n",
    "```\n",
    "The mean for the class is\n",
    "$$ \\frac{(38+39+38+40+41+42+39+39+40+38+37+39+40+41+42)}{15}$$\n",
    "\n",
    "$$= \\frac{593}{15}\\ \\approx 39.53$$\n"
   ],
   "id": "1a9737f0dc2385d0"
  },
  {
   "metadata": {
    "jupyter": {
     "is_executing": true
    },
    "ExecuteTime": {
     "start_time": "2025-10-10T12:21:05.116284Z"
    }
   },
   "cell_type": "code",
   "source": [
    "shoe_sizes = np.array([38, 39, 38, 40, 41, 42, 39, 39, 40, 38, 37, 39, 40, 41, 42])\n",
    "shoe_sizes.sort()\n",
    "print(shoe_sizes)"
   ],
   "id": "3f612e37587329e5",
   "outputs": [
    {
     "name": "stdout",
     "output_type": "stream",
     "text": [
      "[37 38 38 38 39 39 39 39 40 40 40 41 41 42 42]\n"
     ]
    }
   ],
   "execution_count": null
  }
 ],
 "metadata": {
  "kernelspec": {
   "display_name": "Python 3",
   "language": "python",
   "name": "python3"
  },
  "language_info": {
   "codemirror_mode": {
    "name": "ipython",
    "version": 2
   },
   "file_extension": ".py",
   "mimetype": "text/x-python",
   "name": "python",
   "nbconvert_exporter": "python",
   "pygments_lexer": "ipython2",
   "version": "2.7.6"
  }
 },
 "nbformat": 4,
 "nbformat_minor": 5
}
