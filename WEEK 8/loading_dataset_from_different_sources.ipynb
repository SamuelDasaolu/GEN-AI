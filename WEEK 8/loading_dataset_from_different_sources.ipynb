{
 "cells": [
  {
   "cell_type": "code",
   "id": "initial_id",
   "metadata": {
    "collapsed": true,
    "ExecuteTime": {
     "end_time": "2025-09-25T10:11:58.064989Z",
     "start_time": "2025-09-25T10:11:57.441168Z"
    }
   },
   "source": [
    "import pandas as pd\n",
    "\n",
    "# from github\n",
    "url = \"https://media.githubusercontent.com/media/SamuelDasaolu/GEN-AI/refs/heads/main/WEEK%206/bio-data.csv\"  #url to the raw file itself\n",
    "df_from_github = pd.read_csv(url)\n",
    "df_from_github.head()"
   ],
   "outputs": [
    {
     "data": {
      "text/plain": [
       "                      Timestamp First Name    Last Name Course Track  \\\n",
       "0  2025/09/11 12:55:34 PM GMT+1      Peter          NaN           AI   \n",
       "1  2025/09/11 12:56:11 PM GMT+1   Toyeebat       Nababa           AI   \n",
       "2  2025/09/11 12:57:08 PM GMT+1  Perpetual      Meninwa           AI   \n",
       "3  2025/09/11 12:57:56 PM GMT+1     Mahfuz  Abdulhameed           AI   \n",
       "4  2025/09/11 12:58:41 PM GMT+1     Divine    Gbadamosi           AI   \n",
       "\n",
       "       City  Gender Seat Number  PC-Make  PC - OS  \\\n",
       "0      Ogun    Male          28  MACBOOK   Mac OS   \n",
       "1  Abeokuta  Female          24       HP  Windows   \n",
       "2     Lagos  Female          22       HP  Windows   \n",
       "3  Abeokuta    Male          44       HP  Windows   \n",
       "4  Abeokuta    Male          35     DELL  Windows   \n",
       "\n",
       "                                 Feedback  \n",
       "0                                     non  \n",
       "1                               Excellent  \n",
       "2  Thank you so much for the opportunity.  \n",
       "3                            Amazing Shit  \n",
       "4                           Brain Racking  "
      ],
      "text/html": [
       "<div>\n",
       "<style scoped>\n",
       "    .dataframe tbody tr th:only-of-type {\n",
       "        vertical-align: middle;\n",
       "    }\n",
       "\n",
       "    .dataframe tbody tr th {\n",
       "        vertical-align: top;\n",
       "    }\n",
       "\n",
       "    .dataframe thead th {\n",
       "        text-align: right;\n",
       "    }\n",
       "</style>\n",
       "<table border=\"1\" class=\"dataframe\">\n",
       "  <thead>\n",
       "    <tr style=\"text-align: right;\">\n",
       "      <th></th>\n",
       "      <th>Timestamp</th>\n",
       "      <th>First Name</th>\n",
       "      <th>Last Name</th>\n",
       "      <th>Course Track</th>\n",
       "      <th>City</th>\n",
       "      <th>Gender</th>\n",
       "      <th>Seat Number</th>\n",
       "      <th>PC-Make</th>\n",
       "      <th>PC - OS</th>\n",
       "      <th>Feedback</th>\n",
       "    </tr>\n",
       "  </thead>\n",
       "  <tbody>\n",
       "    <tr>\n",
       "      <th>0</th>\n",
       "      <td>2025/09/11 12:55:34 PM GMT+1</td>\n",
       "      <td>Peter</td>\n",
       "      <td>NaN</td>\n",
       "      <td>AI</td>\n",
       "      <td>Ogun</td>\n",
       "      <td>Male</td>\n",
       "      <td>28</td>\n",
       "      <td>MACBOOK</td>\n",
       "      <td>Mac OS</td>\n",
       "      <td>non</td>\n",
       "    </tr>\n",
       "    <tr>\n",
       "      <th>1</th>\n",
       "      <td>2025/09/11 12:56:11 PM GMT+1</td>\n",
       "      <td>Toyeebat</td>\n",
       "      <td>Nababa</td>\n",
       "      <td>AI</td>\n",
       "      <td>Abeokuta</td>\n",
       "      <td>Female</td>\n",
       "      <td>24</td>\n",
       "      <td>HP</td>\n",
       "      <td>Windows</td>\n",
       "      <td>Excellent</td>\n",
       "    </tr>\n",
       "    <tr>\n",
       "      <th>2</th>\n",
       "      <td>2025/09/11 12:57:08 PM GMT+1</td>\n",
       "      <td>Perpetual</td>\n",
       "      <td>Meninwa</td>\n",
       "      <td>AI</td>\n",
       "      <td>Lagos</td>\n",
       "      <td>Female</td>\n",
       "      <td>22</td>\n",
       "      <td>HP</td>\n",
       "      <td>Windows</td>\n",
       "      <td>Thank you so much for the opportunity.</td>\n",
       "    </tr>\n",
       "    <tr>\n",
       "      <th>3</th>\n",
       "      <td>2025/09/11 12:57:56 PM GMT+1</td>\n",
       "      <td>Mahfuz</td>\n",
       "      <td>Abdulhameed</td>\n",
       "      <td>AI</td>\n",
       "      <td>Abeokuta</td>\n",
       "      <td>Male</td>\n",
       "      <td>44</td>\n",
       "      <td>HP</td>\n",
       "      <td>Windows</td>\n",
       "      <td>Amazing Shit</td>\n",
       "    </tr>\n",
       "    <tr>\n",
       "      <th>4</th>\n",
       "      <td>2025/09/11 12:58:41 PM GMT+1</td>\n",
       "      <td>Divine</td>\n",
       "      <td>Gbadamosi</td>\n",
       "      <td>AI</td>\n",
       "      <td>Abeokuta</td>\n",
       "      <td>Male</td>\n",
       "      <td>35</td>\n",
       "      <td>DELL</td>\n",
       "      <td>Windows</td>\n",
       "      <td>Brain Racking</td>\n",
       "    </tr>\n",
       "  </tbody>\n",
       "</table>\n",
       "</div>"
      ]
     },
     "execution_count": 15,
     "metadata": {},
     "output_type": "execute_result"
    }
   ],
   "execution_count": 15
  },
  {
   "metadata": {
    "ExecuteTime": {
     "end_time": "2025-09-25T10:12:03.585456Z",
     "start_time": "2025-09-25T10:11:58.110665Z"
    }
   },
   "cell_type": "code",
   "source": [
    "# from googledrive\n",
    "# if not installed already\n",
    "%pip install gdown\n",
    "import gdown\n",
    "\n",
    "raw_url = \"drive.google.com/uc?id=1yB5qSBOLl96Y563nIewKOU8RN_gsY3dO\"\n",
    "# Format of url:\n",
    "# https://drive.google.com/uc?id=YOURFILEID\n",
    "url = \"https://drive.google.com/uc?id=1yB5qSBOLl96Y563nIewKOU8RN_gsY3dO\"\n",
    "output = \"data_from_gdrive.csv\"\n",
    "gdown.download(url, output, quiet=False)\n",
    "\n",
    "df = pd.read_csv(output)\n",
    "df.head()\n"
   ],
   "id": "65d91e12ba13d00d",
   "outputs": [
    {
     "name": "stdout",
     "output_type": "stream",
     "text": [
      "Requirement already satisfied: gdown in c:\\users\\ncc\\desktop\\gen-ai\\.gen_ai\\lib\\site-packages (5.2.0)\n",
      "Requirement already satisfied: beautifulsoup4 in c:\\users\\ncc\\desktop\\gen-ai\\.gen_ai\\lib\\site-packages (from gdown) (4.13.5)\n",
      "Requirement already satisfied: filelock in c:\\users\\ncc\\desktop\\gen-ai\\.gen_ai\\lib\\site-packages (from gdown) (3.19.1)\n",
      "Requirement already satisfied: requests[socks] in c:\\users\\ncc\\desktop\\gen-ai\\.gen_ai\\lib\\site-packages (from gdown) (2.32.5)\n",
      "Requirement already satisfied: tqdm in c:\\users\\ncc\\desktop\\gen-ai\\.gen_ai\\lib\\site-packages (from gdown) (4.67.1)\n",
      "Requirement already satisfied: soupsieve>1.2 in c:\\users\\ncc\\desktop\\gen-ai\\.gen_ai\\lib\\site-packages (from beautifulsoup4->gdown) (2.8)\n",
      "Requirement already satisfied: typing-extensions>=4.0.0 in c:\\users\\ncc\\desktop\\gen-ai\\.gen_ai\\lib\\site-packages (from beautifulsoup4->gdown) (4.15.0)\n",
      "Requirement already satisfied: charset_normalizer<4,>=2 in c:\\users\\ncc\\desktop\\gen-ai\\.gen_ai\\lib\\site-packages (from requests[socks]->gdown) (3.4.3)\n",
      "Requirement already satisfied: idna<4,>=2.5 in c:\\users\\ncc\\desktop\\gen-ai\\.gen_ai\\lib\\site-packages (from requests[socks]->gdown) (3.10)\n",
      "Requirement already satisfied: urllib3<3,>=1.21.1 in c:\\users\\ncc\\desktop\\gen-ai\\.gen_ai\\lib\\site-packages (from requests[socks]->gdown) (2.5.0)\n",
      "Requirement already satisfied: certifi>=2017.4.17 in c:\\users\\ncc\\desktop\\gen-ai\\.gen_ai\\lib\\site-packages (from requests[socks]->gdown) (2025.8.3)\n",
      "Requirement already satisfied: PySocks!=1.5.7,>=1.5.6 in c:\\users\\ncc\\desktop\\gen-ai\\.gen_ai\\lib\\site-packages (from requests[socks]->gdown) (1.7.1)\n",
      "Requirement already satisfied: colorama in c:\\users\\ncc\\desktop\\gen-ai\\.gen_ai\\lib\\site-packages (from tqdm->gdown) (0.4.6)\n",
      "Note: you may need to restart the kernel to use updated packages.\n"
     ]
    },
    {
     "name": "stderr",
     "output_type": "stream",
     "text": [
      "Downloading...\n",
      "From: https://drive.google.com/uc?id=1yB5qSBOLl96Y563nIewKOU8RN_gsY3dO\n",
      "To: C:\\Users\\ncc\\Desktop\\GEN-AI\\WEEK 8\\data_from_gdrive.csv\n",
      "100%|██████████| 52.0k/52.0k [00:00<00:00, 258kB/s]\n"
     ]
    },
    {
     "data": {
      "text/plain": [
       "   Unnamed: 0    country food_category  consumption  co2_emission\n",
       "0           1  Argentina          pork        10.51         37.20\n",
       "1           2  Argentina       poultry        38.66         41.53\n",
       "2           3  Argentina          beef        55.48       1712.00\n",
       "3           4  Argentina     lamb_goat         1.56         54.63\n",
       "4           5  Argentina          fish         4.36          6.96"
      ],
      "text/html": [
       "<div>\n",
       "<style scoped>\n",
       "    .dataframe tbody tr th:only-of-type {\n",
       "        vertical-align: middle;\n",
       "    }\n",
       "\n",
       "    .dataframe tbody tr th {\n",
       "        vertical-align: top;\n",
       "    }\n",
       "\n",
       "    .dataframe thead th {\n",
       "        text-align: right;\n",
       "    }\n",
       "</style>\n",
       "<table border=\"1\" class=\"dataframe\">\n",
       "  <thead>\n",
       "    <tr style=\"text-align: right;\">\n",
       "      <th></th>\n",
       "      <th>Unnamed: 0</th>\n",
       "      <th>country</th>\n",
       "      <th>food_category</th>\n",
       "      <th>consumption</th>\n",
       "      <th>co2_emission</th>\n",
       "    </tr>\n",
       "  </thead>\n",
       "  <tbody>\n",
       "    <tr>\n",
       "      <th>0</th>\n",
       "      <td>1</td>\n",
       "      <td>Argentina</td>\n",
       "      <td>pork</td>\n",
       "      <td>10.51</td>\n",
       "      <td>37.20</td>\n",
       "    </tr>\n",
       "    <tr>\n",
       "      <th>1</th>\n",
       "      <td>2</td>\n",
       "      <td>Argentina</td>\n",
       "      <td>poultry</td>\n",
       "      <td>38.66</td>\n",
       "      <td>41.53</td>\n",
       "    </tr>\n",
       "    <tr>\n",
       "      <th>2</th>\n",
       "      <td>3</td>\n",
       "      <td>Argentina</td>\n",
       "      <td>beef</td>\n",
       "      <td>55.48</td>\n",
       "      <td>1712.00</td>\n",
       "    </tr>\n",
       "    <tr>\n",
       "      <th>3</th>\n",
       "      <td>4</td>\n",
       "      <td>Argentina</td>\n",
       "      <td>lamb_goat</td>\n",
       "      <td>1.56</td>\n",
       "      <td>54.63</td>\n",
       "    </tr>\n",
       "    <tr>\n",
       "      <th>4</th>\n",
       "      <td>5</td>\n",
       "      <td>Argentina</td>\n",
       "      <td>fish</td>\n",
       "      <td>4.36</td>\n",
       "      <td>6.96</td>\n",
       "    </tr>\n",
       "  </tbody>\n",
       "</table>\n",
       "</div>"
      ]
     },
     "execution_count": 16,
     "metadata": {},
     "output_type": "execute_result"
    }
   ],
   "execution_count": 16
  },
  {
   "metadata": {
    "ExecuteTime": {
     "end_time": "2025-09-25T10:12:13.564251Z",
     "start_time": "2025-09-25T10:12:12.202214Z"
    }
   },
   "cell_type": "code",
   "source": [
    "# from wikipedia\n",
    "import requests\n",
    "\n",
    "url = \"https://en.wikipedia.org/wiki/The_World%27s_Billionaires\"\n",
    "headers = {'User-Agent': 'Mozilla/5.0'}\n",
    "response = requests.get(url, headers=headers)\n",
    "df3 = pd.read_html(response.text)[3]\n",
    "df3.head"
   ],
   "id": "d493fd06cfe51211",
   "outputs": [
    {
     "name": "stderr",
     "output_type": "stream",
     "text": [
      "C:\\Users\\ncc\\AppData\\Local\\Temp\\ipykernel_2436\\491114567.py:7: FutureWarning: Passing literal html to 'read_html' is deprecated and will be removed in a future version. To read from a literal string, wrap it in a 'StringIO' object.\n",
      "  df3 = pd.read_html(response.text)[3]\n"
     ]
    },
    {
     "data": {
      "text/plain": [
       "<bound method NDFrame.head of    No.                      Name Net worth (USD)  Age  \\\n",
       "0    1  Bernard Arnault & family    $233 billion   75   \n",
       "1    2                 Elon Musk    $195 billion   52   \n",
       "2    3                Jeff Bezos    $194 billion   60   \n",
       "3    4           Mark Zuckerberg    $177 billion   39   \n",
       "4    5             Larry Ellison    $141 billion   79   \n",
       "5    6            Warren Buffett    $133 billion   93   \n",
       "6    7                Bill Gates    $128 billion   68   \n",
       "7    8             Steve Ballmer    $121 billion   68   \n",
       "8    9             Mukesh Ambani    $116 billion   66   \n",
       "9   10                Larry Page    $114 billion   51   \n",
       "\n",
       "                           Nationality Primary source(s) of wealth  \n",
       "0                               France                        LVMH  \n",
       "1  South Africa  Canada  United States               Tesla, SpaceX  \n",
       "2                        United States                      Amazon  \n",
       "3                        United States              Meta Platforms  \n",
       "4                        United States          Oracle Corporation  \n",
       "5                        United States          Berkshire Hathaway  \n",
       "6                        United States                   Microsoft  \n",
       "7                        United States                   Microsoft  \n",
       "8                                India         Reliance Industries  \n",
       "9                        United States                      Google  >"
      ]
     },
     "execution_count": 18,
     "metadata": {},
     "output_type": "execute_result"
    }
   ],
   "execution_count": 18
  }
 ],
 "metadata": {
  "kernelspec": {
   "display_name": "Python 3",
   "language": "python",
   "name": "python3"
  },
  "language_info": {
   "codemirror_mode": {
    "name": "ipython",
    "version": 2
   },
   "file_extension": ".py",
   "mimetype": "text/x-python",
   "name": "python",
   "nbconvert_exporter": "python",
   "pygments_lexer": "ipython2",
   "version": "2.7.6"
  }
 },
 "nbformat": 4,
 "nbformat_minor": 5
}
