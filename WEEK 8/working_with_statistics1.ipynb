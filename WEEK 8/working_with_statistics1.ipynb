{
 "cells": [
  {
   "cell_type": "code",
   "id": "initial_id",
   "metadata": {
    "collapsed": true,
    "ExecuteTime": {
     "end_time": "2025-09-24T13:46:02.556545Z",
     "start_time": "2025-09-24T13:46:02.484195Z"
    }
   },
   "source": [
    "import numpy as np\n",
    "import pandas as pd\n",
    "import matplotlib.pyplot as plt"
   ],
   "outputs": [],
   "execution_count": 38
  },
  {
   "metadata": {
    "ExecuteTime": {
     "end_time": "2025-09-24T13:46:02.665898Z",
     "start_time": "2025-09-24T13:46:02.659799Z"
    }
   },
   "cell_type": "code",
   "source": "np.random.seed(42) #setting seed ensures reproducibility",
   "id": "3ed8f9d2a22632c8",
   "outputs": [],
   "execution_count": 39
  },
  {
   "metadata": {
    "ExecuteTime": {
     "end_time": "2025-09-24T13:46:11.328020Z",
     "start_time": "2025-09-24T13:46:11.310422Z"
    }
   },
   "cell_type": "code",
   "source": [
    "# 25 as mean, 5 as s.d and 100 units\n",
    "\n",
    "#1. Traditional Learning -classroom-based\n",
    "# - lets create it with a 25 hours/week and standard deviation of 5 hours\n",
    "traditional_study_hours = np.random.normal(25, 5, 100)\n",
    "\n",
    "#. 2. Accelerated Learning (project-based and Hands-on style)\n",
    "# This one will be a 35 hours/week and a standard deviation of 8 hours\n",
    "accelerated_study_hours = np.random.normal(35, 8, 100)\n",
    "\n",
    "# Lets generate corresponding performance scores between 0-100\n",
    "\n",
    "traditional_scores = np.random.normal(75, 12, 100)  # Mean of  75, SD of 12\n",
    "accelerated_scores = np.random.normal(82, 15, 100)  # Mean of 82, SD of 15\n",
    "\n",
    "\n",
    "# Lets generate project completion counts\n",
    "\n",
    "traditional_projects = np.random.poisson(8, 100)  # Average 8 projects\n",
    "accelerated_projects = np.random.poisson(12, 100)  # Average 12 projects\n",
    "traditional_projects"
   ],
   "id": "a06517a97560125d",
   "outputs": [
    {
     "data": {
      "text/plain": [
       "array([ 6, 10,  7,  4,  9,  7, 10, 12,  9,  4,  8,  2,  8,  9, 10,  4,  6,\n",
       "        7,  7,  4,  5, 13, 11,  4,  8,  6,  4,  5, 12,  9,  7, 11, 10, 11,\n",
       "       13,  9,  7,  5,  8,  9,  6,  7,  7, 10, 10,  6,  4,  4,  4,  9,  7,\n",
       "       11,  8, 12, 10,  4,  3,  5, 10,  5,  4, 10,  6, 10, 11,  5,  8,  6,\n",
       "        9, 11, 13,  4,  8,  5, 11,  8,  3, 10, 12,  7,  8,  2,  6,  2, 11,\n",
       "       11,  8, 14, 13,  2, 12,  7,  9,  6,  8,  9,  7,  8,  6,  7],\n",
       "      dtype=int32)"
      ]
     },
     "execution_count": 41,
     "metadata": {},
     "output_type": "execute_result"
    }
   ],
   "execution_count": 41
  },
  {
   "metadata": {
    "ExecuteTime": {
     "end_time": "2025-09-24T13:46:02.714548Z",
     "start_time": "2025-09-24T13:46:02.711466Z"
    }
   },
   "cell_type": "code",
   "source": "",
   "id": "4f7a28bb6ffada65",
   "outputs": [],
   "execution_count": null
  }
 ],
 "metadata": {
  "kernelspec": {
   "display_name": "Python 3",
   "language": "python",
   "name": "python3"
  },
  "language_info": {
   "codemirror_mode": {
    "name": "ipython",
    "version": 2
   },
   "file_extension": ".py",
   "mimetype": "text/x-python",
   "name": "python",
   "nbconvert_exporter": "python",
   "pygments_lexer": "ipython2",
   "version": "2.7.6"
  }
 },
 "nbformat": 4,
 "nbformat_minor": 5
}
