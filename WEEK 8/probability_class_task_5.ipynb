{
 "cells": [
  {
   "metadata": {},
   "cell_type": "markdown",
   "source": [
    "# CLASS TASK5\n",
    "### Types of Hypothesis Testing\n",
    "##### Given the following Concepts:\n",
    "- Chi-square test (for categorical data),\n",
    "- ANOVA (for comparing more than two means),\n",
    "- Two Tailed Tests\n",
    "- Proportion Tests\n",
    "- `Read about them, and explain them in a Jupyter notebook`"
   ],
   "id": "62fbe1e4a2bfd1b3"
  },
  {
   "metadata": {},
   "cell_type": "markdown",
   "source": "",
   "id": "179f7656925443f1"
  }
 ],
 "metadata": {
  "kernelspec": {
   "display_name": "Python 3",
   "language": "python",
   "name": "python3"
  },
  "language_info": {
   "codemirror_mode": {
    "name": "ipython",
    "version": 2
   },
   "file_extension": ".py",
   "mimetype": "text/x-python",
   "name": "python",
   "nbconvert_exporter": "python",
   "pygments_lexer": "ipython2",
   "version": "2.7.6"
  }
 },
 "nbformat": 4,
 "nbformat_minor": 5
}
